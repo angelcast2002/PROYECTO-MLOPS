{
 "cells": [
  {
   "cell_type": "markdown",
   "id": "bcd26cf0",
   "metadata": {},
   "source": [
    "# Descarga del Dataset"
   ]
  },
  {
   "cell_type": "code",
   "execution_count": null,
   "id": "2f9ee062",
   "metadata": {},
   "outputs": [
    {
     "name": "stderr",
     "output_type": "stream",
     "text": [
      "[nltk_data] Downloading package stopwords to\n",
      "[nltk_data]     C:\\Users\\caste\\AppData\\Roaming\\nltk_data...\n"
     ]
    },
    {
     "name": "stdout",
     "output_type": "stream",
     "text": [
      "OK: dependencias listas.\n"
     ]
    },
    {
     "name": "stderr",
     "output_type": "stream",
     "text": [
      "[nltk_data]   Unzipping corpora\\stopwords.zip.\n"
     ]
    }
   ],
   "source": [
    "import sys, subprocess, pkgutil\n",
    "\n",
    "def pip_install(pkgs):\n",
    "    subprocess.check_call([sys.executable, \"-m\", \"pip\", \"install\", \"-q\"] + pkgs)\n",
    "\n",
    "req = [\"pandas\",\"numpy\",\"scikit-learn\",\"matplotlib\",\"nltk\",\"gensim\",\"textdistance\",\"spacy\",\"datasets\"]\n",
    "to_install = [p for p in req if pkgutil.find_loader(p) is None]\n",
    "if to_install:\n",
    "    pip_install(to_install)\n",
    "\n",
    "try:\n",
    "    import es_core_news_sm\n",
    "except Exception:\n",
    "    subprocess.check_call([sys.executable, \"-m\", \"spacy\", \"download\", \"es_core_news_sm\"])\n",
    "\n",
    "import nltk\n",
    "try:\n",
    "    nltk.data.find(\"corpora/stopwords\")\n",
    "except LookupError:\n",
    "    nltk.download(\"stopwords\")\n",
    "\n",
    "print(\"OK: dependencias listas.\")"
   ]
  },
  {
   "cell_type": "code",
   "execution_count": null,
   "id": "d75d0f61",
   "metadata": {},
   "outputs": [
    {
     "name": "stdout",
     "output_type": "stream",
     "text": [
      "Columnas: ['language', 'category', 'newspaper', 'hash', 'text']\n",
      "Listo -> data/raw/dataset.csv (10200, 2)\n",
      "                                                text label\n",
      "0  Valladolid misteriosa es el título del nuevo l...  play\n",
      "1  El coraje de ser, de Mónica Cavallé, la aventu...  play\n",
      "2  En la Tercera el francés, de Federico Supervie...  play\n"
     ]
    }
   ],
   "source": [
    "import pandas as pd, os\n",
    "\n",
    "os.makedirs(\"data/raw\", exist_ok=True)\n",
    "df = pd.read_csv(\"data/raw/data.csv\")\n",
    "\n",
    "print(\"Columnas:\", df.columns.tolist())\n",
    "text_candidates  = [c for c in [\"text\",\"content\",\"article\",\"body\",\"news\",\"texto\"] if c in df.columns]\n",
    "label_candidates = [c for c in [\"label\",\"category\",\"topic\",\"class\",\"etiqueta\"] if c in df.columns]\n",
    "\n",
    "if not text_candidates or not label_candidates:\n",
    "    raise ValueError(\"No encuentro columnas de texto/etiqueta. Dime qué columnas trae y lo ajusto.\")\n",
    "\n",
    "TEXT_COL  = text_candidates[0]\n",
    "LABEL_COL = label_candidates[0]\n",
    "\n",
    "out = df[[TEXT_COL, LABEL_COL]].rename(columns={TEXT_COL:\"text\", LABEL_COL:\"label\"})\n",
    "out.to_csv(\"data/raw/dataset.csv\", index=False)\n",
    "print(\"Listo -> data/raw/dataset.csv\", out.shape)\n",
    "print(out.head(3))"
   ]
  },
  {
   "cell_type": "markdown",
   "id": "61319f80",
   "metadata": {},
   "source": [
    "# Preprocesamiento"
   ]
  },
  {
   "cell_type": "code",
   "execution_count": null,
   "id": "11e736f7",
   "metadata": {},
   "outputs": [
    {
     "name": "stdout",
     "output_type": "stream",
     "text": [
      "OK deps. spaCy: on\n"
     ]
    }
   ],
   "source": [
    "import sys, subprocess, pkgutil\n",
    "\n",
    "def ensure(pkg, pip_name=None):\n",
    "    pip_name = pip_name or pkg\n",
    "    if pkgutil.find_loader(pkg) is None:\n",
    "        subprocess.check_call([sys.executable, \"-m\", \"pip\", \"install\", \"-q\", pip_name])\n",
    "\n",
    "ensure(\"pandas\")\n",
    "ensure(\"numpy\")\n",
    "ensure(\"nltk\")\n",
    "ensure(\"textdistance\")\n",
    "try:\n",
    "    ensure(\"spacy\")\n",
    "    import spacy\n",
    "    try:\n",
    "        import es_core_news_sm \n",
    "        nlp = es_core_news_sm.load()\n",
    "    except Exception:\n",
    "        subprocess.check_call([sys.executable, \"-m\", \"spacy\", \"download\", \"es_core_news_sm\"])\n",
    "        import es_core_news_sm\n",
    "        nlp = es_core_news_sm.load()\n",
    "except Exception:\n",
    "    nlp = None\n",
    "\n",
    "import nltk\n",
    "try:\n",
    "    nltk.data.find(\"corpora/stopwords\")\n",
    "except LookupError:\n",
    "    nltk.download(\"stopwords\")\n",
    "\n",
    "print(\"OK deps. spaCy:\", \"on\" if nlp else \"off\")"
   ]
  },
  {
   "cell_type": "code",
   "execution_count": null,
   "id": "a428131e",
   "metadata": {},
   "outputs": [
    {
     "name": "stdout",
     "output_type": "stream",
     "text": [
      "(10200, 2)\n"
     ]
    },
    {
     "data": {
      "text/html": [
       "<div>\n",
       "<style scoped>\n",
       "    .dataframe tbody tr th:only-of-type {\n",
       "        vertical-align: middle;\n",
       "    }\n",
       "\n",
       "    .dataframe tbody tr th {\n",
       "        vertical-align: top;\n",
       "    }\n",
       "\n",
       "    .dataframe thead th {\n",
       "        text-align: right;\n",
       "    }\n",
       "</style>\n",
       "<table border=\"1\" class=\"dataframe\">\n",
       "  <thead>\n",
       "    <tr style=\"text-align: right;\">\n",
       "      <th></th>\n",
       "      <th>text</th>\n",
       "      <th>label</th>\n",
       "    </tr>\n",
       "  </thead>\n",
       "  <tbody>\n",
       "    <tr>\n",
       "      <th>0</th>\n",
       "      <td>Valladolid misteriosa es el título del nuevo l...</td>\n",
       "      <td>play</td>\n",
       "    </tr>\n",
       "    <tr>\n",
       "      <th>1</th>\n",
       "      <td>El coraje de ser, de Mónica Cavallé, la aventu...</td>\n",
       "      <td>play</td>\n",
       "    </tr>\n",
       "    <tr>\n",
       "      <th>2</th>\n",
       "      <td>En la Tercera el francés, de Federico Supervie...</td>\n",
       "      <td>play</td>\n",
       "    </tr>\n",
       "  </tbody>\n",
       "</table>\n",
       "</div>"
      ],
      "text/plain": [
       "                                                text label\n",
       "0  Valladolid misteriosa es el título del nuevo l...  play\n",
       "1  El coraje de ser, de Mónica Cavallé, la aventu...  play\n",
       "2  En la Tercera el francés, de Federico Supervie...  play"
      ]
     },
     "execution_count": 7,
     "metadata": {},
     "output_type": "execute_result"
    }
   ],
   "source": [
    "import pandas as pd, os\n",
    "\n",
    "path = \"data/raw/dataset.csv\"  \n",
    "df = pd.read_csv(path)\n",
    "assert {\"text\",\"label\"}.issubset(df.columns), df.columns.tolist()\n",
    "\n",
    "df = df.dropna(subset=[\"text\"]).reset_index(drop=True)\n",
    "print(df.shape)\n",
    "df.head(3)"
   ]
  },
  {
   "cell_type": "code",
   "execution_count": null,
   "id": "4691c8e1",
   "metadata": {},
   "outputs": [],
   "source": [
    "import re, unicodedata\n",
    "from nltk.corpus import stopwords\n",
    "\n",
    "SPANISH_SW = set(stopwords.words(\"spanish\"))\n",
    "\n",
    "def normalize(txt:str)->str:\n",
    "    txt = txt.lower()\n",
    "    txt = \"\".join(c for c in unicodedata.normalize(\"NFD\", txt) if unicodedata.category(c) != \"Mn\")\n",
    "    txt = re.sub(r\"[\\r\\n\\t]+\",\" \", txt)\n",
    "    txt = re.sub(r\"\\s+\",\" \", txt).strip()\n",
    "    return txt\n",
    "\n",
    "def tokenize_simple(txt:str):\n",
    "    return re.findall(r\"\\b\\w+\\b\", txt, flags=re.UNICODE)\n",
    "\n",
    "def clean_tokens(tokens, remove_digits=True, remove_sw=True):\n",
    "    out=[]\n",
    "    for t in tokens:\n",
    "        if remove_digits and t.isdigit(): \n",
    "            continue\n",
    "        if remove_sw and t in SPANISH_SW:\n",
    "            continue\n",
    "        out.append(t)\n",
    "    return out"
   ]
  },
  {
   "cell_type": "code",
   "execution_count": null,
   "id": "bb896419",
   "metadata": {},
   "outputs": [
    {
     "name": "stdout",
     "output_type": "stream",
     "text": [
      "                                                text  \\\n",
      "0  Valladolid misteriosa es el título del nuevo l...   \n",
      "1  El coraje de ser, de Mónica Cavallé, la aventu...   \n",
      "\n",
      "                                           text_norm  \n",
      "0  valladolid misteriosa es el titulo del nuevo l...  \n",
      "1  el coraje de ser, de monica cavalle, la aventu...  \n",
      "Ejemplo tokens: ['valladolid', 'misteriosa', 'titulo', 'nuevo', 'libro', 'acaba', 'publicar', 'editorial', 'almuzara', 'trata', 'obra', 'investigador', 'paranormal', 'juan', 'carlos', 'pasalodos', 'perez', 'realiza', 'exhaustiva', 'recopilacion']\n"
     ]
    }
   ],
   "source": [
    "df[\"text_norm\"] = df[\"text\"].map(normalize)\n",
    "df[\"tokens\"] = df[\"text_norm\"].map(tokenize_simple).map(clean_tokens)\n",
    "\n",
    "print(df[[\"text\", \"text_norm\"]].head(2))\n",
    "print(\"Ejemplo tokens:\", df[\"tokens\"].iloc[0][:20])"
   ]
  },
  {
   "cell_type": "code",
   "execution_count": null,
   "id": "6cc0775d",
   "metadata": {},
   "outputs": [
    {
     "data": {
      "text/html": [
       "<div>\n",
       "<style scoped>\n",
       "    .dataframe tbody tr th:only-of-type {\n",
       "        vertical-align: middle;\n",
       "    }\n",
       "\n",
       "    .dataframe tbody tr th {\n",
       "        vertical-align: top;\n",
       "    }\n",
       "\n",
       "    .dataframe thead th {\n",
       "        text-align: right;\n",
       "    }\n",
       "</style>\n",
       "<table border=\"1\" class=\"dataframe\">\n",
       "  <thead>\n",
       "    <tr style=\"text-align: right;\">\n",
       "      <th></th>\n",
       "      <th>tokens</th>\n",
       "      <th>stems</th>\n",
       "      <th>lemmas</th>\n",
       "    </tr>\n",
       "  </thead>\n",
       "  <tbody>\n",
       "    <tr>\n",
       "      <th>0</th>\n",
       "      <td>[valladolid, misteriosa, titulo, nuevo, libro,...</td>\n",
       "      <td>[valladol, misteri, titul, nuev, libr, acab, p...</td>\n",
       "      <td>[valladolid, misterioso, titulo, nuevo, libro,...</td>\n",
       "    </tr>\n",
       "    <tr>\n",
       "      <th>1</th>\n",
       "      <td>[coraje, ser, monica, cavalle, aventura, autoc...</td>\n",
       "      <td>[coraj, ser, monic, cavall, aventur, autoconoc...</td>\n",
       "      <td>[coraje, ser, monicar, cavalle, aventura, auto...</td>\n",
       "    </tr>\n",
       "  </tbody>\n",
       "</table>\n",
       "</div>"
      ],
      "text/plain": [
       "                                              tokens  \\\n",
       "0  [valladolid, misteriosa, titulo, nuevo, libro,...   \n",
       "1  [coraje, ser, monica, cavalle, aventura, autoc...   \n",
       "\n",
       "                                               stems  \\\n",
       "0  [valladol, misteri, titul, nuev, libr, acab, p...   \n",
       "1  [coraj, ser, monic, cavall, aventur, autoconoc...   \n",
       "\n",
       "                                              lemmas  \n",
       "0  [valladolid, misterioso, titulo, nuevo, libro,...  \n",
       "1  [coraje, ser, monicar, cavalle, aventura, auto...  "
      ]
     },
     "execution_count": 11,
     "metadata": {},
     "output_type": "execute_result"
    }
   ],
   "source": [
    "from nltk.stem.snowball import SpanishStemmer\n",
    "stemmer = SpanishStemmer()\n",
    "\n",
    "df[\"stems\"] = df[\"tokens\"].map(lambda toks: [stemmer.stem(t) for t in toks])\n",
    "\n",
    "if nlp is not None:\n",
    "    def lemmatize_list(toks):\n",
    "        doc = nlp(\" \".join(toks))\n",
    "        return [t.lemma_ if t.lemma_ else t.text for t in doc]\n",
    "    df[\"lemmas\"] = df[\"tokens\"].map(lemmatize_list)\n",
    "else:\n",
    "    df[\"lemmas\"] = df[\"tokens\"] \n",
    "\n",
    "df[[\"tokens\",\"stems\",\"lemmas\"]].head(2)"
   ]
  },
  {
   "cell_type": "code",
   "execution_count": null,
   "id": "6628fa42",
   "metadata": {},
   "outputs": [
    {
     "name": "stdout",
     "output_type": "stream",
     "text": [
      "arcanos -> ['arcano']\n",
      "asentamos -> ['sentamos', 'asentados']\n",
      "yoes -> ['oes', 'goes', 'yves', 'does']\n",
      "llenados -> ['llegados', 'llenamos', 'llenado', 'llevados']\n",
      "azores -> ['amores']\n"
     ]
    }
   ],
   "source": [
    "from collections import Counter\n",
    "import textdistance\n",
    "\n",
    "vocab = Counter(t for toks in df[\"tokens\"] for t in toks)\n",
    "rare = [w for w,c in vocab.items() if c==1][:100]    \n",
    "cand = set([w for w,c in vocab.items() if c>=5])      \n",
    "\n",
    "def suggest(word, candidates, max_dist=1):\n",
    "    return [c for c in candidates if textdistance.levenshtein.distance(word, c) <= max_dist]\n",
    "\n",
    "for w in rare[:10]:\n",
    "    s = suggest(w, cand, max_dist=1)\n",
    "    if s:\n",
    "        print(f\"{w} -> {s[:5]}\")"
   ]
  },
  {
   "cell_type": "code",
   "execution_count": null,
   "id": "51470fa8",
   "metadata": {},
   "outputs": [
    {
     "name": "stdout",
     "output_type": "stream",
     "text": [
      "OK → data/processed/preprocesado.parquet\n"
     ]
    }
   ],
   "source": [
    "os.makedirs(\"data/processed\", exist_ok=True)\n",
    "df.to_parquet(\"data/processed/preprocesado.parquet\", index=False)\n",
    "print(\"OK → data/processed/preprocesado.parquet\")"
   ]
  },
  {
   "cell_type": "markdown",
   "id": "98356daf",
   "metadata": {},
   "source": [
    "# Representaciones"
   ]
  },
  {
   "cell_type": "code",
   "execution_count": 1,
   "id": "bef7fa3f",
   "metadata": {},
   "outputs": [
    {
     "name": "stdout",
     "output_type": "stream",
     "text": [
      "OK imports.\n"
     ]
    }
   ],
   "source": [
    "import sys, subprocess, pkgutil, os\n",
    "\n",
    "def ensure(pkg, pip_name=None):\n",
    "    pip_name = pip_name or pkg\n",
    "    if pkgutil.find_loader(pkg) is None:\n",
    "        subprocess.check_call([sys.executable, \"-m\", \"pip\", \"install\", \"-q\", pip_name])\n",
    "\n",
    "ensure(\"pandas\")\n",
    "ensure(\"numpy\")\n",
    "ensure(\"scikit-learn\", \"scikit-learn\")\n",
    "ensure(\"gensim\")\n",
    "ensure(\"matplotlib\")\n",
    "\n",
    "import numpy as np, pandas as pd\n",
    "from sklearn.feature_extraction.text import CountVectorizer, TfidfVectorizer\n",
    "from sklearn.decomposition import PCA\n",
    "from sklearn.manifold import TSNE\n",
    "import matplotlib.pyplot as plt\n",
    "\n",
    "os.makedirs(\"figures\", exist_ok=True)\n",
    "os.makedirs(\"models\", exist_ok=True)\n",
    "os.makedirs(\"data/processed\", exist_ok=True)\n",
    "\n",
    "print(\"OK imports.\")\n"
   ]
  },
  {
   "cell_type": "code",
   "execution_count": 2,
   "id": "2251dec7",
   "metadata": {},
   "outputs": [
    {
     "data": {
      "text/plain": [
       "(10200, 10200, numpy.ndarray[slice(None, 5, None)])"
      ]
     },
     "execution_count": 2,
     "metadata": {},
     "output_type": "execute_result"
    }
   ],
   "source": [
    "df = pd.read_parquet(\"data/processed/preprocesado.parquet\")\n",
    "texts  = df[\"text_norm\"].tolist()\n",
    "tokens = df[\"tokens\"].tolist()\n",
    "len(texts), len(tokens), type(tokens[0])[:5]"
   ]
  },
  {
   "cell_type": "code",
   "execution_count": null,
   "id": "b19f052b",
   "metadata": {},
   "outputs": [
    {
     "name": "stdout",
     "output_type": "stream",
     "text": [
      "BoW: (10200, 157587) Voc: 157587\n",
      "TF-IDF: (10200, 1921725) Voc: 1921725\n"
     ]
    },
    {
     "data": {
      "text/plain": [
       "['models/tfidf_vectorizer.joblib']"
      ]
     },
     "execution_count": 3,
     "metadata": {},
     "output_type": "execute_result"
    }
   ],
   "source": [
    "bow = CountVectorizer(ngram_range=(1,1))          \n",
    "tfidf = TfidfVectorizer(ngram_range=(1,2))        \n",
    "\n",
    "X_bow   = bow.fit_transform(texts)\n",
    "X_tfidf = tfidf.fit_transform(texts)\n",
    "\n",
    "print(\"BoW:\",   X_bow.shape,   \"Voc:\", len(bow.vocabulary_))\n",
    "print(\"TF-IDF:\", X_tfidf.shape, \"Voc:\", len(tfidf.vocabulary_))\n",
    "\n",
    "import joblib\n",
    "joblib.dump(bow,   \"models/bow_vectorizer.joblib\")\n",
    "joblib.dump(tfidf, \"models/tfidf_vectorizer.joblib\")"
   ]
  },
  {
   "cell_type": "code",
   "execution_count": null,
   "id": "5bd65a16",
   "metadata": {},
   "outputs": [
    {
     "name": "stdout",
     "output_type": "stream",
     "text": [
      "Co-ocurrencias: (20000, 20000) | PPMI: (20000, 20000) | Vocab: 20000\n",
      "OK → cooc/ppmi guardados.\n"
     ]
    }
   ],
   "source": [
    "import numpy as np, pickle, os, ast\n",
    "from collections import Counter\n",
    "\n",
    "if isinstance(tokens[0], str):\n",
    "    tokens = [ast.literal_eval(t) for t in tokens]\n",
    "\n",
    "def cooc_matrix(tokenized_docs, window=4, min_count=5, top_k=None):\n",
    "    vocab_counts = Counter(t for doc in tokenized_docs for t in doc)\n",
    "    items = [(w,c) for w,c in vocab_counts.items() if c >= min_count]\n",
    "    if top_k is not None and len(items) > top_k:\n",
    "        items = sorted(items, key=lambda x: -x[1])[:top_k]\n",
    "    idx = {w:i for i,(w,_) in enumerate(sorted(items, key=lambda x: -x[1]))}\n",
    "    V = len(idx)\n",
    "    C = np.zeros((V, V), dtype=np.float32)\n",
    "    for doc in tokenized_docs:\n",
    "        L = len(doc)\n",
    "        for i, t in enumerate(doc):\n",
    "            if t not in idx: \n",
    "                continue\n",
    "            wi = idx[t]\n",
    "            left = max(0, i - window)\n",
    "            right = min(L, i + window + 1)\n",
    "            for u in doc[left:i]:\n",
    "                if u in idx:\n",
    "                    C[wi, idx[u]] += 1.0\n",
    "            for u in doc[i+1:right]:\n",
    "                if u in idx:\n",
    "                    C[wi, idx[u]] += 1.0\n",
    "    return C, idx\n",
    "\n",
    "def ppmi(C, eps=1e-8):\n",
    "    total = C.sum()\n",
    "    if total == 0:\n",
    "        return C\n",
    "    pi = C.sum(axis=1, keepdims=True)\n",
    "    pj = C.sum(axis=0, keepdims=True)\n",
    "    pij = C / (total + eps)\n",
    "    denom = (pi @ pj) / (total**2 + eps)\n",
    "    with np.errstate(divide='ignore'):\n",
    "        pmi = np.log((pij + eps) / (denom + eps))\n",
    "    return np.maximum(0.0, pmi)\n",
    "\n",
    "C, idx = cooc_matrix(tokens, window=4, min_count=5, top_k=20000)\n",
    "X_ppmi = ppmi(C)\n",
    "\n",
    "print(\"Co-ocurrencias:\", C.shape, \"| PPMI:\", X_ppmi.shape, \"| Vocab:\", len(idx))\n",
    "\n",
    "os.makedirs(\"data/processed\", exist_ok=True)\n",
    "np.save(\"data/processed/cooc.npy\", C)\n",
    "np.save(\"data/processed/ppmi.npy\", X_ppmi)\n",
    "with open(\"data/processed/cooc_idx.pkl\", \"wb\") as f:\n",
    "    pickle.dump(idx, f)\n",
    "print(\"OK → cooc/ppmi guardados.\")"
   ]
  },
  {
   "cell_type": "code",
   "execution_count": null,
   "id": "5b8a2275",
   "metadata": {},
   "outputs": [
    {
     "name": "stdout",
     "output_type": "stream",
     "text": [
      "Docs totales: 10200 | docs válidos: 10200\n",
      "Ejemplo doc: ['valladolid', 'misteriosa', 'titulo', 'nuevo', 'libro', 'acaba', 'publicar', 'editorial', 'almuzara', 'trata', 'obra', 'investigador']\n",
      "Vocab size: 50606\n",
      "▶️  epoch 1/5\n",
      "▶️  epoch 2/5\n",
      "▶️  epoch 3/5\n",
      "▶️  epoch 4/5\n",
      "▶️  epoch 5/5\n",
      "Doc-embeddings: (10200, 100)\n",
      "OK → models/word2vec.model y data/processed/doc_embeddings_w2v.npy\n"
     ]
    }
   ],
   "source": [
    "# Celda 5 (FIX) — Word2Vec robusto + progreso + guardado\n",
    "import os, numpy as np\n",
    "from gensim.models import Word2Vec\n",
    "from gensim.models.callbacks import CallbackAny2Vec\n",
    "\n",
    "def clean_docs(docs, min_len=2):\n",
    "    ok = []\n",
    "    for doc in docs:\n",
    "        if isinstance(doc, str):\n",
    "            seq = doc.split()\n",
    "        elif isinstance(doc, (list, tuple)):\n",
    "            seq = list(doc)\n",
    "        else:\n",
    "            try:\n",
    "                seq = list(doc)\n",
    "            except Exception:\n",
    "                continue\n",
    "        clean = []\n",
    "        for t in seq:\n",
    "            if t is None:\n",
    "                continue\n",
    "            if isinstance(t, (list, tuple, np.ndarray, dict, set)):\n",
    "                continue\n",
    "            s = str(t).strip()\n",
    "            if s:\n",
    "                clean.append(s)\n",
    "        if len(clean) >= min_len:\n",
    "            ok.append(clean)\n",
    "    return ok\n",
    "\n",
    "tokens_clean = clean_docs(tokens, min_len=2)\n",
    "print(\"Docs totales:\", len(tokens), \"| docs válidos:\", len(tokens_clean))\n",
    "print(\"Ejemplo doc:\", tokens_clean[0][:12])\n",
    "\n",
    "class EpochLogger(CallbackAny2Vec):\n",
    "    def __init__(self): self.epoch = 0\n",
    "    def on_epoch_begin(self, model): \n",
    "        print(f\"▶️  epoch {self.epoch+1}/{model.epochs}\")\n",
    "    def on_epoch_end(self, model):\n",
    "        if model.compute_loss:\n",
    "            print(f\"   loss acumulado: {model.get_latest_training_loss():.1f}\")\n",
    "        self.epoch += 1\n",
    "\n",
    "w2v = Word2Vec(\n",
    "    vector_size=100, window=5, min_count=5,\n",
    "    workers=2, sg=1, epochs=5, seed=42,\n",
    "    compute_loss=True\n",
    ")\n",
    "\n",
    "w2v.build_vocab(tokens_clean, progress_per=10000)\n",
    "print(\"Vocab size:\", len(w2v.wv))\n",
    "\n",
    "w2v.train(\n",
    "    corpus_iterable=tokens_clean,\n",
    "    total_examples=w2v.corpus_count,\n",
    "    epochs=w2v.epochs,\n",
    "    report_delay=10,\n",
    "    callbacks=[EpochLogger()]\n",
    ")\n",
    "\n",
    "def doc_avg_vecs(tokenized_docs, model):\n",
    "    dim = model.wv.vector_size\n",
    "    out = []\n",
    "    for doc in tokenized_docs:\n",
    "        vecs = [model.wv[w] for w in doc if w in model.wv]\n",
    "        out.append(np.mean(vecs, axis=0) if len(vecs) else np.zeros(dim))\n",
    "    return np.vstack(out)\n",
    "\n",
    "X_w2v = doc_avg_vecs(tokens_clean, w2v)\n",
    "print(\"Doc-embeddings:\", X_w2v.shape)\n",
    "\n",
    "os.makedirs(\"models\", exist_ok=True)\n",
    "os.makedirs(\"data/processed\", exist_ok=True)\n",
    "w2v.save(\"models/word2vec.model\")\n",
    "np.save(\"data/processed/doc_embeddings_w2v.npy\", X_w2v)\n",
    "print(\"OK → models/word2vec.model y data/processed/doc_embeddings_w2v.npy\")"
   ]
  },
  {
   "cell_type": "code",
   "execution_count": null,
   "id": "a3c52d19",
   "metadata": {},
   "outputs": [
    {
     "data": {
      "image/png": "[encoded data removed]",
      "text/plain": [
       "<Figure size 640x480 with 1 Axes>"
      ]
     },
     "metadata": {},
     "output_type": "display_data"
    },
    {
     "data": {
      "image/png": "[encoded data removed]",
      "text/plain": [
       "<Figure size 640x480 with 1 Axes>"
      ]
     },
     "metadata": {},
     "output_type": "display_data"
    },
    {
     "name": "stdout",
     "output_type": "stream",
     "text": [
      "Figuras guardadas en ./figures/\n"
     ]
    }
   ],
   "source": [
    "n1 = min(2000, X_tfidf.shape[0])\n",
    "n2 = min(2000, X_w2v.shape[0])\n",
    "\n",
    "X_tfidf_sample = X_tfidf[:n1].toarray()\n",
    "pca = PCA(n_components=2, random_state=42).fit_transform(X_tfidf_sample)\n",
    "plt.figure()\n",
    "plt.scatter(pca[:,0], pca[:,1], s=5)\n",
    "plt.title(\"PCA (TF-IDF) — muestra\")\n",
    "plt.xlabel(\"PC1\"); plt.ylabel(\"PC2\")\n",
    "plt.tight_layout(); plt.savefig(\"figures/pca_tfidf.png\", dpi=160)\n",
    "plt.show()\n",
    "\n",
    "tsne = TSNE(n_components=2, perplexity=30, random_state=42, init=\"random\").fit_transform(X_w2v[:n2])\n",
    "plt.figure()\n",
    "plt.scatter(tsne[:,0], tsne[:,1], s=5)\n",
    "plt.title(\"t-SNE (Word2Vec doc avg) — muestra\")\n",
    "plt.xlabel(\"t1\"); plt.ylabel(\"t2\")\n",
    "plt.tight_layout(); plt.savefig(\"figures/tsne_w2v.png\", dpi=160)\n",
    "plt.show()\n",
    "\n",
    "print(\"Figuras guardadas en ./figures/\")"
   ]
  },
  {
   "cell_type": "code",
   "execution_count": null,
   "id": "2ebfbb60",
   "metadata": {},
   "outputs": [
    {
     "name": "stdout",
     "output_type": "stream",
     "text": [
      "{'bow_shape': (10200, 157587), 'tfidf_shape': (10200, 1921725), 'ppmi_shape': (20000, 20000), 'w2v_docs': 10200, 'w2v_dim': 100}\n"
     ]
    }
   ],
   "source": [
    "print({\n",
    "    \"bow_shape\":   tuple(X_bow.shape),\n",
    "    \"tfidf_shape\": tuple(X_tfidf.shape),\n",
    "    \"ppmi_shape\":  tuple(X_ppmi.shape),\n",
    "    \"w2v_docs\":    X_w2v.shape[0],\n",
    "    \"w2v_dim\":     X_w2v.shape[1],\n",
    "})"
   ]
  },
  {
   "cell_type": "markdown",
   "id": "30531a8e",
   "metadata": {},
   "source": [
    "# N-gramas"
   ]
  },
  {
   "cell_type": "code",
   "execution_count": null,
   "id": "4d1f6a19",
   "metadata": {},
   "outputs": [
    {
     "data": {
      "text/plain": [
       "(10200,\n",
       " array(['valladolid', 'misteriosa', 'titulo', 'nuevo', 'libro', 'acaba',\n",
       "        'publicar', 'editorial', 'almuzara', 'trata', 'obra',\n",
       "        'investigador'], dtype=object))"
      ]
     },
     "execution_count": 8,
     "metadata": {},
     "output_type": "execute_result"
    }
   ],
   "source": [
    "import pandas as pd, ast\n",
    "\n",
    "df = pd.read_parquet(\"data/processed/preprocesado.parquet\")\n",
    "tokens = df[\"tokens\"].tolist()\n",
    "\n",
    "if isinstance(tokens[0], str):\n",
    "    tokens = [ast.literal_eval(t) for t in tokens]\n",
    "\n",
    "len(tokens), tokens[0][:12]"
   ]
  },
  {
   "cell_type": "code",
   "execution_count": 9,
   "id": "306e6673",
   "metadata": {},
   "outputs": [
    {
     "data": {
      "text/plain": [
       "(65835, 9180, 1020)"
      ]
     },
     "execution_count": 9,
     "metadata": {},
     "output_type": "execute_result"
    }
   ],
   "source": [
    "from collections import Counter\n",
    "from sklearn.model_selection import train_test_split\n",
    "\n",
    "train_sents, test_sents = train_test_split(tokens, test_size=0.1, random_state=42)\n",
    "\n",
    "BOS, EOS, UNK = \"<s>\", \"</s>\", \"<unk>\"\n",
    "\n",
    "def build_vocab(sents, min_count=3):\n",
    "    cnt = Counter(w for s in sents for w in s)\n",
    "    vocab = {w for w,c in cnt.items() if c >= min_count}\n",
    "    vocab |= {BOS, EOS, UNK}\n",
    "    return vocab\n",
    "\n",
    "def apply_vocab(sents, vocab):\n",
    "    out = []\n",
    "    for s in sents:\n",
    "        s2 = [w if w in vocab else UNK for w in s]\n",
    "        out.append(s2)\n",
    "    return out\n",
    "\n",
    "vocab = build_vocab(train_sents, min_count=3)\n",
    "train_sents = apply_vocab(train_sents, vocab)\n",
    "test_sents  = apply_vocab(test_sents,  vocab)\n",
    "\n",
    "len(vocab), len(train_sents), len(test_sents)"
   ]
  },
  {
   "cell_type": "code",
   "execution_count": 10,
   "id": "1946f904",
   "metadata": {},
   "outputs": [
    {
     "data": {
      "text/plain": [
       "(1961943,\n",
       " 65834,\n",
       " [(('<unk>', '<unk>'), 10123),\n",
       "  (('millones', 'euros'), 1519),\n",
       "  (('puede', 'ser'), 1210)])"
      ]
     },
     "execution_count": 10,
     "metadata": {},
     "output_type": "execute_result"
    }
   ],
   "source": [
    "from collections import Counter\n",
    "\n",
    "def add_boundaries(sents, n):\n",
    "    out=[]\n",
    "    for s in sents:\n",
    "        out.append([BOS]*(n-1) + s + [EOS])\n",
    "    return out\n",
    "\n",
    "def ngram_counts(sents, n):\n",
    "    sents_b = add_boundaries(sents, n)\n",
    "    counts = Counter()\n",
    "    ctx_counts = Counter()\n",
    "    for s in sents_b:\n",
    "        for i in range(n-1, len(s)):\n",
    "            ngram = tuple(s[i-n+1:i+1])\n",
    "            ctx   = ngram[:-1]\n",
    "            counts[ngram] += 1\n",
    "            ctx_counts[ctx] += 1\n",
    "    return counts, ctx_counts\n",
    "\n",
    "c2, cx2 = ngram_counts(train_sents, 2)\n",
    "len(c2), len(cx2), list(c2.most_common(3))[:3]"
   ]
  },
  {
   "cell_type": "code",
   "execution_count": 11,
   "id": "80b985e1",
   "metadata": {},
   "outputs": [
    {
     "name": "stdout",
     "output_type": "stream",
     "text": [
      "Bigramas k=1 → H=14.551 bits, PPL=24001.22\n"
     ]
    }
   ],
   "source": [
    "import math\n",
    "\n",
    "def sent_log2prob(sent, n, counts, ctx_counts, V, k=1.0):\n",
    "    s = [BOS]*(n-1) + sent + [EOS]\n",
    "    log2p=0.0\n",
    "    for i in range(n-1, len(s)):\n",
    "        ngram = tuple(s[i-n+1:i+1])\n",
    "        ctx   = ngram[:-1]\n",
    "        c_ng  = counts.get(ngram, 0)\n",
    "        c_ctx = ctx_counts.get(ctx, 0)\n",
    "        prob  = (c_ng + k) / (c_ctx + k*V)\n",
    "        log2p += math.log2(prob)\n",
    "    return log2p\n",
    "\n",
    "def corpus_metrics(sents, n, counts, ctx_counts, V, k=1.0):\n",
    "    N_tokens = sum(len(s)+1 for s in sents)  \n",
    "    log2sum = 0.0\n",
    "    for s in sents:\n",
    "        log2sum += sent_log2prob(s, n, counts, ctx_counts, V, k)\n",
    "    H = -log2sum / N_tokens              \n",
    "    ppl = 2 ** H                         \n",
    "    return H, ppl\n",
    "\n",
    "V = len(vocab)\n",
    "c2, cx2 = ngram_counts(train_sents, 2)\n",
    "H2, ppl2 = corpus_metrics(test_sents, 2, c2, cx2, V, k=1.0)\n",
    "print(f\"Bigramas k=1 → H={H2:.3f} bits, PPL={ppl2:.2f}\")"
   ]
  },
  {
   "cell_type": "code",
   "execution_count": 12,
   "id": "fb953c52",
   "metadata": {},
   "outputs": [
    {
     "name": "stdout",
     "output_type": "stream",
     "text": [
      "n=1, k=0.1 → H=12.980 | PPL=8080.83\n",
      "n=1, k=0.5 → H=12.982 | PPL=8087.86\n",
      "n=1, k=1.0 → H=12.984 | PPL=8099.56\n",
      "n=2, k=0.1 → H=13.434 | PPL=11067.29\n",
      "n=2, k=0.5 → H=14.213 | PPL=18990.24\n",
      "n=2, k=1.0 → H=14.551 | PPL=24001.22\n",
      "n=3, k=0.1 → H=15.370 | PPL=42349.42\n",
      "n=3, k=0.5 → H=15.628 | PPL=50642.26\n",
      "n=3, k=1.0 → H=15.723 | PPL=54079.52\n",
      "\n",
      "TOP por PPL (mejor abajo):\n",
      "(1, 0.1, 12.9802876060741, 8080.829094912091)\n",
      "(1, 0.5, 12.981542368508503, 8087.8603323715015)\n",
      "(1, 1.0, 12.983627844758217, 8099.560128267226)\n",
      "(2, 0.1, 13.43401374615423, 11067.285150302285)\n",
      "(2, 0.5, 14.212970599798556, 18990.241076265167)\n"
     ]
    }
   ],
   "source": [
    "results = []\n",
    "for n in [1,2,3]:\n",
    "    cnts, ctx = ngram_counts(train_sents, n)\n",
    "    for k in [0.1, 0.5, 1.0]:\n",
    "        H, ppl = corpus_metrics(test_sents, n, cnts, ctx, len(vocab), k=k)\n",
    "        results.append((n, k, H, ppl))\n",
    "        print(f\"n={n}, k={k:>3} → H={H:.3f} | PPL={ppl:.2f}\")\n",
    "\n",
    "results_sorted = sorted(results, key=lambda x: x[3])\n",
    "print(\"\\nTOP por PPL (mejor abajo):\")\n",
    "for r in results_sorted[:5]:\n",
    "    print(r)"
   ]
  },
  {
   "cell_type": "code",
   "execution_count": 13,
   "id": "a4ff97c4",
   "metadata": {},
   "outputs": [
    {
     "name": "stdout",
     "output_type": "stream",
     "text": [
      "Contexto ('economia',) → [('espanola', 0.0009159021636311767), ('circular', 0.0004204141078962778), ('social', 0.00040539931832855365), ('mundial', 0.0003303253704899326), ('hacienda', 0.0003303253704899326), ('global', 0.0002102070539481389), ('<unk>', 0.0002102070539481389), ('luis', 0.0001801774748126905), ('comercio', 0.0001651626852449663), ('baja', 0.0001501478956772421)]\n"
     ]
    }
   ],
   "source": [
    "from collections import defaultdict\n",
    "\n",
    "def next_word_probs(counts, ctx_counts, ctx, V, k=1.0):\n",
    "    numer = []\n",
    "    denom = ctx_counts.get(ctx, 0) + k*V\n",
    "    for w in vocab:\n",
    "        ng = ctx + (w,)\n",
    "        p = (counts.get(ng, 0) + k) / denom\n",
    "        numer.append((w, p))\n",
    "    numer.sort(key=lambda x: x[1], reverse=True)\n",
    "    return numer\n",
    "\n",
    "n=2; k=1.0\n",
    "cnts, ctx = c2, cx2\n",
    "ctx_ex = (\"economia\",)\n",
    "top = next_word_probs(cnts, ctx, ctx_ex, len(vocab), k)[:10]\n",
    "print(\"Contexto\", ctx_ex, \"→\", top)"
   ]
  },
  {
   "cell_type": "code",
   "execution_count": 14,
   "id": "85a322fd",
   "metadata": {},
   "outputs": [
    {
     "name": "stdout",
     "output_type": "stream",
     "text": [
      "OK → data/processed/ngram_summary.json\n"
     ]
    }
   ],
   "source": [
    "import json, os\n",
    "os.makedirs(\"figures\", exist_ok=True)\n",
    "\n",
    "summary = {\n",
    "    \"vocab_size\": len(vocab),\n",
    "    \"num_train_docs\": len(train_sents),\n",
    "    \"num_test_docs\": len(test_sents),\n",
    "    \"sweep\": [{\"n\":n,\"k\":k,\"entropy_bits\":float(H),\"perplexity\":float(ppl)} for (n,k,H,ppl) in results]\n",
    "}\n",
    "with open(\"data/processed/ngram_summary.json\",\"w\",encoding=\"utf-8\") as f:\n",
    "    json.dump(summary, f, ensure_ascii=False, indent=2)\n",
    "\n",
    "print(\"OK → data/processed/ngram_summary.json\")"
   ]
  },
  {
   "cell_type": "markdown",
   "id": "6536acbc",
   "metadata": {},
   "source": [
    "# Modelo Avanzado: Clasificación"
   ]
  },
  {
   "cell_type": "code",
   "execution_count": null,
   "id": "5fa87b13",
   "metadata": {},
   "outputs": [
    {
     "name": "stdout",
     "output_type": "stream",
     "text": [
      "Docs: 10200 | Clases: ['alimentation', 'astronomy', 'economy', 'fashion', 'medicine', 'military', 'motor', 'play', 'politics', 'religion', 'sport', 'tech']\n"
     ]
    }
   ],
   "source": [
    "import pandas as pd, numpy as np, os, joblib\n",
    "from sklearn.model_selection import train_test_split\n",
    "from sklearn.metrics import accuracy_score, f1_score, classification_report, confusion_matrix, ConfusionMatrixDisplay\n",
    "from sklearn.pipeline import Pipeline\n",
    "from sklearn.feature_extraction.text import TfidfVectorizer\n",
    "from sklearn.naive_bayes import MultinomialNB\n",
    "from sklearn.svm import LinearSVC\n",
    "import matplotlib.pyplot as plt\n",
    "\n",
    "os.makedirs(\"models\", exist_ok=True)\n",
    "os.makedirs(\"figures\", exist_ok=True)\n",
    "\n",
    "df = pd.read_parquet(\"data/processed/preprocesado.parquet\")\n",
    "df = df.dropna(subset=[\"text_norm\",\"label\"]).reset_index(drop=True)\n",
    "texts = df[\"text_norm\"].astype(str).tolist()\n",
    "labels = df[\"label\"].astype(str).tolist()\n",
    "print(\"Docs:\", len(texts), \"| Clases:\", sorted(set(labels)))"
   ]
  },
  {
   "cell_type": "code",
   "execution_count": null,
   "id": "048eebbe",
   "metadata": {},
   "outputs": [
    {
     "name": "stdout",
     "output_type": "stream",
     "text": [
      "Train dist: Counter({'play': 680, 'medicine': 680, 'astronomy': 680, 'military': 680, 'fashion': 680, 'sport': 680, 'economy': 680, 'motor': 680, 'alimentation': 680, 'religion': 680, 'politics': 680, 'tech': 680})\n",
      "Test  dist: Counter({'military': 170, 'tech': 170, 'economy': 170, 'religion': 170, 'motor': 170, 'astronomy': 170, 'alimentation': 170, 'sport': 170, 'play': 170, 'medicine': 170, 'politics': 170, 'fashion': 170})\n"
     ]
    }
   ],
   "source": [
    "X_train, X_test, y_train, y_test = train_test_split(\n",
    "    texts, labels, test_size=0.2, random_state=42, stratify=labels\n",
    ")\n",
    "\n",
    "import collections\n",
    "print(\"Train dist:\", collections.Counter(y_train))\n",
    "print(\"Test  dist:\", collections.Counter(y_test))"
   ]
  },
  {
   "cell_type": "code",
   "execution_count": 17,
   "id": "ed22a261",
   "metadata": {},
   "outputs": [
    {
     "name": "stdout",
     "output_type": "stream",
     "text": [
      "[NB] accuracy=0.9436  f1_macro=0.9438\n",
      "\n",
      "[NB] classification_report:\n",
      "               precision    recall  f1-score   support\n",
      "\n",
      "alimentation       0.98      0.99      0.99       170\n",
      "   astronomy       1.00      0.86      0.93       170\n",
      "     economy       0.82      0.86      0.84       170\n",
      "     fashion       1.00      0.97      0.99       170\n",
      "    medicine       0.96      1.00      0.98       170\n",
      "    military       0.97      0.94      0.95       170\n",
      "       motor       0.98      0.95      0.96       170\n",
      "        play       0.93      0.98      0.95       170\n",
      "    politics       0.87      0.94      0.91       170\n",
      "    religion       0.94      0.94      0.94       170\n",
      "       sport       0.96      0.97      0.97       170\n",
      "        tech       0.95      0.91      0.93       170\n",
      "\n",
      "    accuracy                           0.94      2040\n",
      "   macro avg       0.95      0.94      0.94      2040\n",
      "weighted avg       0.95      0.94      0.94      2040\n",
      "\n"
     ]
    },
    {
     "data": {
      "image/png": "[encoded data removed]",
      "text/plain": [
       "<Figure size 500x500 with 1 Axes>"
      ]
     },
     "metadata": {},
     "output_type": "display_data"
    },
    {
     "name": "stdout",
     "output_type": "stream",
     "text": [
      "OK → models/nb_tfidf.joblib y figures/confusion_nb.png\n"
     ]
    }
   ],
   "source": [
    "nb_pipe = Pipeline([\n",
    "    (\"tfidf\", TfidfVectorizer(ngram_range=(1,2), min_df=2)),\n",
    "    (\"clf\", MultinomialNB())\n",
    "])\n",
    "\n",
    "nb_pipe.fit(X_train, y_train)\n",
    "pred_nb = nb_pipe.predict(X_test)\n",
    "\n",
    "acc_nb = accuracy_score(y_test, pred_nb)\n",
    "f1_nb  = f1_score(y_test, pred_nb, average=\"macro\")\n",
    "\n",
    "print(f\"[NB] accuracy={acc_nb:.4f}  f1_macro={f1_nb:.4f}\")\n",
    "print(\"\\n[NB] classification_report:\\n\", classification_report(y_test, pred_nb, zero_division=0))\n",
    "\n",
    "cm_nb = confusion_matrix(y_test, pred_nb, labels=sorted(set(labels)))\n",
    "disp = ConfusionMatrixDisplay(confusion_matrix=cm_nb, display_labels=sorted(set(labels)))\n",
    "fig, ax = plt.subplots(figsize=(5,5))\n",
    "disp.plot(ax=ax, xticks_rotation=45, colorbar=False)\n",
    "plt.tight_layout(); plt.savefig(\"figures/confusion_nb.png\", dpi=160); plt.show()\n",
    "\n",
    "joblib.dump(nb_pipe, \"models/nb_tfidf.joblib\")\n",
    "print(\"OK → models/nb_tfidf.joblib y figures/confusion_nb.png\")"
   ]
  },
  {
   "cell_type": "code",
   "execution_count": 18,
   "id": "71d78bcb",
   "metadata": {},
   "outputs": [
    {
     "name": "stdout",
     "output_type": "stream",
     "text": [
      "[SVM] accuracy=0.9647  f1_macro=0.9647\n",
      "\n",
      "[SVM] classification_report:\n",
      "               precision    recall  f1-score   support\n",
      "\n",
      "alimentation       0.99      0.99      0.99       170\n",
      "   astronomy       0.98      0.97      0.98       170\n",
      "     economy       0.89      0.88      0.88       170\n",
      "     fashion       0.99      0.98      0.99       170\n",
      "    medicine       0.98      1.00      0.99       170\n",
      "    military       0.98      0.99      0.99       170\n",
      "       motor       0.99      0.98      0.99       170\n",
      "        play       0.96      1.00      0.98       170\n",
      "    politics       0.90      0.95      0.92       170\n",
      "    religion       0.98      0.93      0.95       170\n",
      "       sport       0.98      0.98      0.98       170\n",
      "        tech       0.97      0.92      0.94       170\n",
      "\n",
      "    accuracy                           0.96      2040\n",
      "   macro avg       0.97      0.96      0.96      2040\n",
      "weighted avg       0.97      0.96      0.96      2040\n",
      "\n"
     ]
    },
    {
     "data": {
      "image/png": "[encoded data removed]",
      "text/plain": [
       "<Figure size 500x500 with 1 Axes>"
      ]
     },
     "metadata": {},
     "output_type": "display_data"
    },
    {
     "name": "stdout",
     "output_type": "stream",
     "text": [
      "OK → models/svm_tfidf.joblib y figures/confusion_svm.png\n"
     ]
    }
   ],
   "source": [
    "svm_pipe = Pipeline([\n",
    "    (\"tfidf\", TfidfVectorizer(ngram_range=(1,2), min_df=2)),\n",
    "    (\"clf\", LinearSVC())\n",
    "])\n",
    "\n",
    "svm_pipe.fit(X_train, y_train)\n",
    "pred_svm = svm_pipe.predict(X_test)\n",
    "\n",
    "acc_svm = accuracy_score(y_test, pred_svm)\n",
    "f1_svm  = f1_score(y_test, pred_svm, average=\"macro\")\n",
    "\n",
    "print(f\"[SVM] accuracy={acc_svm:.4f}  f1_macro={f1_svm:.4f}\")\n",
    "print(\"\\n[SVM] classification_report:\\n\", classification_report(y_test, pred_svm, zero_division=0))\n",
    "\n",
    "cm_svm = confusion_matrix(y_test, pred_svm, labels=sorted(set(labels)))\n",
    "disp = ConfusionMatrixDisplay(confusion_matrix=cm_svm, display_labels=sorted(set(labels)))\n",
    "fig, ax = plt.subplots(figsize=(5,5))\n",
    "disp.plot(ax=ax, xticks_rotation=45, colorbar=False)\n",
    "plt.tight_layout(); plt.savefig(\"figures/confusion_svm.png\", dpi=160); plt.show()\n",
    "\n",
    "joblib.dump(svm_pipe, \"models/svm_tfidf.joblib\")\n",
    "print(\"OK → models/svm_tfidf.joblib y figures/confusion_svm.png\")"
   ]
  },
  {
   "cell_type": "code",
   "execution_count": 19,
   "id": "47d9a23a",
   "metadata": {},
   "outputs": [
    {
     "name": "stdout",
     "output_type": "stream",
     "text": [
      "Resumen: {'NB': {'accuracy': 0.9436274509803921, 'f1_macro': 0.9438479849044468}, 'SVM': {'accuracy': 0.9647058823529412, 'f1_macro': 0.964667993208023}}\n",
      "Errores SVM: 72\n",
      "\n",
      "[1] true=astronomy pred=play\n",
      "un enorme tornado succiona en el oceano a cientos de tiburones hambrientos que amenazan con devorarlo todo a su paso por la ciudad de los angeles.este es el delirante argumento de \"sharknado\", una pelicula que tras su estreno hace unas semanas en la television de estados unidos desato una tormenta e...\n",
      "\n",
      "[2] true=astronomy pred=religion\n",
      "las autoridades australianas informaron que un hombre fallecio tras ser atacado presuntamente por un tiburon en una playa de bryon bay, el punto mas oriental del continente australiano.el sujeto fue mordido en una pierna mientras se encontraba en un popular destino turistico en nueva gales del sur y...\n",
      "\n",
      "[3] true=fashion pred=economy\n",
      "agentes de la policia nacional han bloqueado paginas web que clonaban los portales de marcas de ropa de reconocido prestigio, para estafar a victimas aprovechando el incremento de las compras en la epoca navidena. los estafadores creaban paginas que replicaban la cabecera, los logos y la maquetacion...\n",
      "\n",
      "[4] true=religion pred=astronomy\n",
      "el 11 de febrero, dia de la virgen de lourdes, nos visita la efemeride conocida como el dia de la nina y la mujer en la ciencia. es costumbre en rel visibilizar alguna de las que ademas de haber sido ninas terminaron siendo mujeres cientificas. hablamos de estas mujeres porque, en si mismas, son hec...\n",
      "\n",
      "[5] true=economy pred=tech\n",
      "google sigue ampliando su proyecto de inteligencia artificial, gemini, con un nuevo modelo destinado en esta ocasion a desarrolladores (lo ha abierto por ahora a un selecto grupo de ellos) y con el que aspira a recortar distancias con el por ahora mucho mas popular chatgpt de openai (que cuenta con ...\n",
      "\n",
      "[6] true=religion pred=economy\n",
      "la inteligencia artificial (ia) ya esta revolucionando el sector turistico con viajes y experiencias mejoradas y personalizadas para los clientes. en este contexto, las companias que cuenten con herramientas basadas en ia y tecnologia de tratamiento de datos tendran la capacidad de convertirse en li...\n",
      "\n",
      "[7] true=religion pred=play\n",
      "el de superman es uno de los papeles mas codiciados y que mas interpretes ha tenido a lo largo de su historia. su relevancia mediatica es tal que quienes reciben la llamada para ponerse la capa roja y las mallas azules son recordados de por vida. asi le sucedio a george reeves, que marco a la genera...\n",
      "\n",
      "[8] true=economy pred=sport\n",
      "el presidente de eeuu, joe biden, se mostro este domingo enojado y estafado porque cada vez se encogen mas las golosinas o refrigerios durante las fiestas deportivas como la super bowl, que se celebra hoy en las vegas.en un video en x en la antesala de la final del futbol americano entre los equipos...\n",
      "\n",
      "[9] true=politics pred=economy\n",
      "la tractorada que preve tomar madrid entre el martes y el miercoles debera seguir el recorrido marcado por la delegacion de gobierno y no el que considere. asi lo ha dictaminado el tribunal superior de justicia de madrid en un auto consultado por este periodico y el que se adelanta el resultado del ...\n",
      "\n",
      "[10] true=politics pred=economy\n",
      "llevaba trabajando para la empresa desde 1995, pero el 28 de febrero del 2020 la entidad convoco a los empleados para comunicarles que algunos de ellos (entre los que se encuentra el demandante) serian despedidos por causas objetivas y de produccion. justo al terminar la jornada laboral este trabaja...\n"
     ]
    }
   ],
   "source": [
    "import json\n",
    "\n",
    "summary = {\n",
    "    \"NB\":  {\"accuracy\": float(acc_nb),  \"f1_macro\": float(f1_nb)},\n",
    "    \"SVM\": {\"accuracy\": float(acc_svm), \"f1_macro\": float(f1_svm)}\n",
    "}\n",
    "print(\"Resumen:\", summary)\n",
    "\n",
    "with open(\"data/processed/classif_summary.json\",\"w\",encoding=\"utf-8\") as f:\n",
    "    json.dump(summary, f, indent=2, ensure_ascii=False)\n",
    "\n",
    "errs = [(i, y_test[i], pred_svm[i], X_test[i]) for i in range(len(X_test)) if pred_svm[i] != y_test[i]]\n",
    "print(f\"Errores SVM: {len(errs)}\")\n",
    "for i,(idx, y, yhat, txt) in enumerate(errs[:10], 1):\n",
    "    print(f\"\\n[{i}] true={y} pred={yhat}\\n{txt[:300]}...\")"
   ]
  },
  {
   "cell_type": "code",
   "execution_count": 20,
   "id": "93817fc0",
   "metadata": {},
   "outputs": [
    {
     "name": "stdout",
     "output_type": "stream",
     "text": [
      "['politics' 'economy']\n"
     ]
    }
   ],
   "source": [
    "loaded = joblib.load(\"models/svm_tfidf.joblib\") \n",
    "ejemplos = [\n",
    "    \"El gobierno anunció nuevas medidas económicas para el próximo trimestre.\",\n",
    "    \"Resultados financieros positivos impulsan a la compañía en los mercados.\",\n",
    "]\n",
    "print(loaded.predict(ejemplos))"
   ]
  },
  {
   "cell_type": "markdown",
   "id": "7cdfbefe",
   "metadata": {},
   "source": [
    "# MLOPS"
   ]
  },
  {
   "cell_type": "code",
   "execution_count": 7,
   "id": "bceffd4e",
   "metadata": {},
   "outputs": [
    {
     "name": "stdout",
     "output_type": "stream",
     "text": [
      "OK → docs/objetivo_y_slas.json\n"
     ]
    },
    {
     "data": {
      "text/plain": [
       "{'optimizamos': 'F1-macro',\n",
       " 'metas': {'f1_macro_min': 0.94, 'f1_por_clase_min': 0.8},\n",
       " 'sla_demo': {'latencia_p95_ms': 100}}"
      ]
     },
     "execution_count": 7,
     "metadata": {},
     "output_type": "execute_result"
    }
   ],
   "source": [
    "import os, json\n",
    "os.makedirs(\"docs\", exist_ok=True)\n",
    "\n",
    "goals = {\n",
    "    \"optimizamos\": \"F1-macro\",\n",
    "    \"metas\": {\n",
    "        \"f1_macro_min\": 0.94,           # meta del trabajo\n",
    "        \"f1_por_clase_min\": 0.80,       # fairness simple\n",
    "    },\n",
    "    \"sla_demo\": {\n",
    "        \"latencia_p95_ms\": 100          # objetivo académico en CPU\n",
    "    }\n",
    "}\n",
    "\n",
    "with open(\"docs/objetivo_y_slas.json\",\"w\", encoding=\"utf-8\") as f:\n",
    "    json.dump(goals, f, indent=2, ensure_ascii=False)\n",
    "\n",
    "print(\"OK → docs/objetivo_y_slas.json\")\n",
    "goals"
   ]
  },
  {
   "cell_type": "code",
   "execution_count": 8,
   "id": "2754d1be",
   "metadata": {},
   "outputs": [
    {
     "name": "stdout",
     "output_type": "stream",
     "text": [
      "% textos con largo ≥10: 1.000\n",
      "% textos duplicados: 0.005\n",
      "Distribución por clase (proporción):\n",
      "label\n",
      "play            0.083\n",
      "tech            0.083\n",
      "medicine        0.083\n",
      "astronomy       0.083\n",
      "sport           0.083\n",
      "fashion         0.083\n",
      "alimentation    0.083\n",
      "politics        0.083\n",
      "military        0.083\n",
      "religion        0.083\n",
      "motor           0.083\n",
      "economy         0.083\n",
      "Name: proportion, dtype: float64\n",
      "\n",
      "OK: validaciones básicas superadas.\n"
     ]
    }
   ],
   "source": [
    "import pandas as pd\n",
    "\n",
    "path = \"data/raw/dataset.csv\"\n",
    "df = pd.read_csv(path)\n",
    "\n",
    "# 1) Columnas esperadas\n",
    "assert {\"text\",\"label\"}.issubset(df.columns), f\"Columnas: {df.columns.tolist()}\"\n",
    "\n",
    "# 2) Nulos\n",
    "assert df[\"text\"].notna().all(), \"Hay textos nulos\"\n",
    "assert df[\"label\"].notna().all(), \"Hay etiquetas nulas\"\n",
    "\n",
    "# 3) Longitud mínima\n",
    "min_len_ok = df[\"text\"].astype(str).str.len().ge(10).mean()\n",
    "print(f\"% textos con largo ≥10: {min_len_ok:.3f}\")\n",
    "assert min_len_ok > 0.95, \"Demasiados textos muy cortos (<10)\"\n",
    "\n",
    "# 4) Duplicados\n",
    "dup_rate = df[\"text\"].duplicated().mean()\n",
    "print(f\"% textos duplicados: {dup_rate:.3f}\")\n",
    "assert dup_rate < 0.05, \"Muchos duplicados (>5%)\"\n",
    "\n",
    "# 5) Distribución por clase (reporte)\n",
    "dist = df[\"label\"].value_counts(normalize=True).round(3)\n",
    "print(\"Distribución por clase (proporción):\")\n",
    "print(dist)\n",
    "\n",
    "print(\"\\nOK: validaciones básicas superadas.\")"
   ]
  },
  {
   "cell_type": "code",
   "execution_count": 9,
   "id": "f8ad0e16",
   "metadata": {},
   "outputs": [
    {
     "name": "stdout",
     "output_type": "stream",
     "text": [
      "Resumen CV: {'cv': 5, 'accuracy_mean': 0.9582352941176471, 'accuracy_std': 0.0054444875987901395, 'f1_macro_mean': 0.9581735982152685, 'f1_macro_std': 0.005555091690292628, 'per_class_f1_mean': {'alimentation': 0.9860359547545727, 'astronomy': 0.9621320823578591, 'economy': 0.8833204930255014, 'fashion': 0.9731619092774455, 'medicine': 0.9849034618713404, 'military': 0.9707662728068115, 'motor': 0.9741336667483715, 'play': 0.9595188742694546, 'politics': 0.9374139483100429, 'religion': 0.9456156872423384, 'sport': 0.9859026654732297, 'tech': 0.935178162446254}}\n"
     ]
    }
   ],
   "source": [
    "import json, os, numpy as np, pandas as pd\n",
    "from sklearn.model_selection import StratifiedKFold\n",
    "from sklearn.pipeline import Pipeline\n",
    "from sklearn.feature_extraction.text import TfidfVectorizer\n",
    "from sklearn.svm import LinearSVC\n",
    "from sklearn.metrics import accuracy_score, f1_score, classification_report\n",
    "\n",
    "# Carga: usa preprocesado si existe\n",
    "if os.path.exists(\"data/processed/preprocesado.parquet\"):\n",
    "    d = pd.read_parquet(\"data/processed/preprocesado.parquet\").dropna(subset=[\"text_norm\",\"label\"])\n",
    "    X = d[\"text_norm\"].astype(str).to_numpy()\n",
    "    y = d[\"label\"].astype(str).to_numpy()\n",
    "else:\n",
    "    d = pd.read_csv(\"data/raw/dataset.csv\").dropna(subset=[\"text\",\"label\"])\n",
    "    X = d[\"text\"].astype(str).to_numpy()\n",
    "    y = d[\"label\"].astype(str).to_numpy()\n",
    "\n",
    "pipe = Pipeline([\n",
    "    (\"tfidf\", TfidfVectorizer(ngram_range=(1,2), min_df=2)),\n",
    "    (\"clf\", LinearSVC())\n",
    "])\n",
    "\n",
    "skf = StratifiedKFold(n_splits=5, shuffle=True, random_state=42)\n",
    "accs, f1s = [], []\n",
    "reports = []\n",
    "\n",
    "for fold, (tr, te) in enumerate(skf.split(X, y), 1):\n",
    "    pipe.fit(X[tr], y[tr])\n",
    "    pred = pipe.predict(X[te])\n",
    "    accs.append(accuracy_score(y[te], pred))\n",
    "    f1s.append(f1_score(y[te], pred, average=\"macro\"))\n",
    "    reports.append(classification_report(y[te], pred, zero_division=0, output_dict=True))\n",
    "\n",
    "summary = {\n",
    "    \"cv\": 5,\n",
    "    \"accuracy_mean\": float(np.mean(accs)),\n",
    "    \"accuracy_std\":  float(np.std(accs)),\n",
    "    \"f1_macro_mean\": float(np.mean(f1s)),\n",
    "    \"f1_macro_std\":  float(np.std(f1s)),\n",
    "}\n",
    "\n",
    "# F1 medio por clase (promedio sobre folds)\n",
    "all_labels = sorted({c for rep in reports for c in rep if c not in (\"accuracy\",\"macro avg\",\"weighted avg\")})\n",
    "f1_por_clase = {}\n",
    "for cls in all_labels:\n",
    "    vals = [rep[cls][\"f1-score\"] for rep in reports if cls in rep]\n",
    "    if vals:\n",
    "        f1_por_clase[cls] = float(np.mean(vals))\n",
    "summary[\"per_class_f1_mean\"] = f1_por_clase\n",
    "\n",
    "os.makedirs(\"data/processed\", exist_ok=True)\n",
    "with open(\"data/processed/cv_summary.json\",\"w\", encoding=\"utf-8\") as f:\n",
    "    json.dump(summary, f, indent=2, ensure_ascii=False)\n",
    "\n",
    "print(\"Resumen CV:\", summary)"
   ]
  },
  {
   "cell_type": "code",
   "execution_count": 11,
   "id": "095f1d01",
   "metadata": {},
   "outputs": [
    {
     "name": "stdout",
     "output_type": "stream",
     "text": [
      "OK → añadido run a data/processed/exp_log.jsonl\n"
     ]
    }
   ],
   "source": [
    "import os, json, time\n",
    "os.makedirs(\"data/processed\", exist_ok=True)\n",
    "log_path = \"data/processed/exp_log.jsonl\"\n",
    "\n",
    "run = {\n",
    "    \"ts\": time.strftime(\"%Y-%m-%d %H:%M:%S\"),\n",
    "    \"model\": \"LinearSVC\",\n",
    "    \"feats\": \"TFIDF(1,2), min_df=2\",\n",
    "    \"cv\": 5,\n",
    "    \"metrics\": json.load(open(\"data/processed/cv_summary.json\", \"r\", encoding=\"utf-8\")),\n",
    "}\n",
    "\n",
    "with open(log_path, \"a\", encoding=\"utf-8\") as f:\n",
    "    f.write(json.dumps(run, ensure_ascii=False) + \"\\n\")\n",
    "\n",
    "print(\"OK → añadido run a\", log_path)"
   ]
  },
  {
   "cell_type": "code",
   "execution_count": null,
   "id": "0be0d25f",
   "metadata": {},
   "outputs": [
    {
     "name": "stdout",
     "output_type": "stream",
     "text": [
      "{'n_preds': 210, 'latencia_p50_ms': 0.34, 'latencia_p95_ms': 0.56}\n"
     ]
    }
   ],
   "source": [
    "import numpy as np, time, pandas as pd\n",
    "from sklearn.pipeline import Pipeline\n",
    "from sklearn.feature_extraction.text import TfidfVectorizer\n",
    "from sklearn.svm import LinearSVC\n",
    "import os\n",
    "\n",
    "# Entrena un modelo rápido sobre todo el set (o usa el ya entrenado si lo tienes en memoria).\n",
    "if os.path.exists(\"data/processed/preprocesado.parquet\"):\n",
    "    d = pd.read_parquet(\"data/processed/preprocesado.parquet\").dropna(subset=[\"text_norm\",\"label\"])\n",
    "else:\n",
    "    d = pd.read_csv(\"data/raw/dataset.csv\").dropna(subset=[\"text\",\"label\"])\n",
    "\n",
    "texts = (d[\"text_norm\"] if \"text_norm\" in d else d[\"text\"]).astype(str).tolist()\n",
    "labels = d[\"label\"].astype(str).tolist()\n",
    "\n",
    "pipe = Pipeline([\n",
    "    (\"tfidf\", TfidfVectorizer(ngram_range=(1,2), min_df=2)),\n",
    "    (\"clf\", LinearSVC())\n",
    "]).fit(texts, labels)\n",
    "\n",
    "ejemplos = [\n",
    "    \"El gobierno anunció nuevas medidas económicas para el próximo trimestre.\",\n",
    "    \"Resultados financieros positivos impulsan a la compañía en los mercados.\",\n",
    "    \"El telescopio registró una nueva explosión solar visible desde Europa.\",\n",
    "]\n",
    "samples = ejemplos * 70   # ~210 predicciones\n",
    "\n",
    "# Warm-up\n",
    "pipe.predict([ejemplos[0]])\n",
    "\n",
    "times = []\n",
    "for s in samples:\n",
    "    t0 = time.perf_counter()\n",
    "    _ = pipe.predict([s])[0]\n",
    "    t1 = time.perf_counter()\n",
    "    times.append((t1 - t0) * 1000.0)  # ms\n",
    "\n",
    "p50 = float(np.percentile(times, 50))\n",
    "p95 = float(np.percentile(times, 95))\n",
    "print({\"n_preds\": len(times), \"latencia_p50_ms\": round(p50,2), \"latencia_p95_ms\": round(p95,2)})"
   ]
  },
  {
   "cell_type": "code",
   "execution_count": null,
   "id": "624d1cd7",
   "metadata": {},
   "outputs": [
    {
     "name": "stdout",
     "output_type": "stream",
     "text": [
      "Escrito requirements.txt con versiones detectadas.\n",
      "{\n",
      "  \"pandas\": \"2.3.2\",\n",
      "  \"numpy\": \"1.26.4\",\n",
      "  \"scikit-learn\": \"not_installed\",\n",
      "  \"matplotlib\": \"3.10.6\",\n",
      "  \"nltk\": \"3.9.1\",\n",
      "  \"gensim\": \"4.3.3\",\n",
      "  \"textdistance\": \"4.6.2\",\n",
      "  \"spacy\": \"3.8.7\",\n",
      "  \"typer\": \"0.19.2\",\n",
      "  \"pyyaml\": \"not_installed\",\n",
      "  \"joblib\": \"1.5.2\"\n",
      "}\n"
     ]
    }
   ],
   "source": [
    "import importlib, json\n",
    "\n",
    "pkgs = [\"pandas\",\"numpy\",\"scikit-learn\",\"matplotlib\",\"nltk\",\"gensim\",\"textdistance\",\"spacy\",\"typer\",\"pyyaml\",\"joblib\"]\n",
    "vers = {}\n",
    "for p in pkgs:\n",
    "    try:\n",
    "        m = importlib.import_module(p)\n",
    "        vers[p] = getattr(m, \"__version__\", \"unknown\")\n",
    "    except Exception:\n",
    "        vers[p] = \"not_installed\"\n",
    "\n",
    "with open(\"requirements.txt\",\"w\") as f:\n",
    "    for k,v in vers.items():\n",
    "        if v == \"not_installed\":\n",
    "            continue\n",
    "        f.write(f\"{k}=={v}\\n\")\n",
    "\n",
    "print(\"Escrito requirements.txt con versiones detectadas.\")\n",
    "print(json.dumps(vers, indent=2, ensure_ascii=False))"
   ]
  },
  {
   "cell_type": "code",
   "execution_count": 13,
   "id": "f7233dbd",
   "metadata": {},
   "outputs": [
    {
     "name": "stdout",
     "output_type": "stream",
     "text": [
      "OK → data/processed/latency_summary.json {'n_preds': 210, 'latencia_p50_ms': 0.357, 'latencia_p95_ms': 0.468}\n",
      "SLA OK: p95=0.468 ms ≤ 100 ms\n"
     ]
    }
   ],
   "source": [
    "# Guarda latencia y verifica contra SLA (docs/objetivo_y_slas.json)\n",
    "import os, json, time, numpy as np\n",
    "from sklearn.pipeline import Pipeline\n",
    "from sklearn.feature_extraction.text import TfidfVectorizer\n",
    "from sklearn.svm import LinearSVC\n",
    "import pandas as pd\n",
    "\n",
    "def quick_latency():\n",
    "    if \"pipe\" in globals():\n",
    "        clf = pipe\n",
    "    else:\n",
    "        if os.path.exists(\"data/processed/preprocesado.parquet\"):\n",
    "            d = pd.read_parquet(\"data/processed/preprocesado.parquet\").dropna(subset=[\"text_norm\",\"label\"])\n",
    "            texts = d[\"text_norm\"].astype(str).tolist()\n",
    "        else:\n",
    "            d = pd.read_csv(\"data/raw/dataset.csv\").dropna(subset=[\"text\",\"label\"])\n",
    "            texts = d[\"text\"].astype(str).tolist()\n",
    "        labels = d[\"label\"].astype(str).tolist()\n",
    "        clf = Pipeline([(\"tfidf\", TfidfVectorizer(ngram_range=(1,2), min_df=2)), (\"clf\", LinearSVC())]).fit(texts, labels)\n",
    "\n",
    "    ejemplos = [\n",
    "        \"El gobierno anunció nuevas medidas económicas para el próximo trimestre.\",\n",
    "        \"Resultados financieros positivos impulsan a la compañía en los mercados.\",\n",
    "        \"El telescopio registró una nueva explosión solar visible desde Europa.\",\n",
    "    ]\n",
    "    samples = ejemplos * 70  # ~210 predicciones\n",
    "    _ = clf.predict([ejemplos[0]])  # warm-up\n",
    "    times = []\n",
    "    for s in samples:\n",
    "        t0 = time.perf_counter()\n",
    "        _ = clf.predict([s])[0]\n",
    "        t1 = time.perf_counter()\n",
    "        times.append((t1 - t0) * 1000.0)  # ms\n",
    "    return float(np.percentile(times, 50)), float(np.percentile(times, 95)), len(times)\n",
    "\n",
    "try:\n",
    "    p50_ms, p95_ms\n",
    "except NameError:\n",
    "    p50_ms, p95_ms, n_preds = quick_latency()\n",
    "else:\n",
    "    try:\n",
    "        n_preds\n",
    "    except NameError:\n",
    "        n_preds = 210\n",
    "\n",
    "lat = {\"n_preds\": int(n_preds), \"latencia_p50_ms\": round(p50_ms, 3), \"latencia_p95_ms\": round(p95_ms, 3)}\n",
    "os.makedirs(\"data/processed\", exist_ok=True)\n",
    "with open(\"data/processed/latency_summary.json\", \"w\") as f:\n",
    "    json.dump(lat, f, indent=2)\n",
    "print(\"OK → data/processed/latency_summary.json\", lat)\n",
    "\n",
    "goals = json.load(open(\"docs/objetivo_y_slas.json\", \"r\", encoding=\"utf-8\"))\n",
    "sla_limit = goals[\"sla_demo\"][\"latencia_p95_ms\"]\n",
    "assert lat[\"latencia_p95_ms\"] <= sla_limit, f\"SLA NO cumplido (p95={lat['latencia_p95_ms']} ms > {sla_limit} ms)\"\n",
    "print(f\"SLA OK: p95={lat['latencia_p95_ms']} ms ≤ {sla_limit} ms\")\n"
   ]
  },
  {
   "cell_type": "code",
   "execution_count": 14,
   "id": "61c6b9bb",
   "metadata": {},
   "outputs": [
    {
     "name": "stdout",
     "output_type": "stream",
     "text": [
      "OK: F1-macro=0.9582 (≥ 0.94), F1 mínima por clase=0.8833 (≥ 0.8)\n"
     ]
    }
   ],
   "source": [
    "import json\n",
    "\n",
    "goals = json.load(open(\"docs/objetivo_y_slas.json\",\"r\", encoding=\"utf-8\"))\n",
    "cv = json.load(open(\"data/processed/cv_summary.json\",\"r\", encoding=\"utf-8\"))\n",
    "\n",
    "f1_macro = cv[\"f1_macro_mean\"]\n",
    "f1_target = goals[\"metas\"][\"f1_macro_min\"]\n",
    "assert f1_macro >= f1_target, f\"Meta de F1-macro NO cumplida: {f1_macro:.4f} < {f1_target:.2f}\"\n",
    "\n",
    "per_cls = cv.get(\"per_class_f1_mean\", {})\n",
    "if per_cls:\n",
    "    f1_min_cls = min(per_cls.values())\n",
    "    f1_cls_target = goals[\"metas\"][\"f1_por_clase_min\"]\n",
    "    assert f1_min_cls >= f1_cls_target, f\"Fairness NO cumplida: F1 mínima {f1_min_cls:.4f} < {f1_cls_target:.2f}\"\n",
    "    print(f\"OK: F1-macro={f1_macro:.4f} (≥ {f1_target}), F1 mínima por clase={f1_min_cls:.4f} (≥ {f1_cls_target})\")\n",
    "else:\n",
    "    print(f\"OK: F1-macro={f1_macro:.4f} (≥ {f1_target}). *No se encontró F1 por clase*\")\n"
   ]
  },
  {
   "cell_type": "code",
   "execution_count": 15,
   "id": "08e11aa8",
   "metadata": {},
   "outputs": [
    {
     "name": "stdout",
     "output_type": "stream",
     "text": [
      "OK → añadido run con latencia a data/processed/exp_log.jsonl\n"
     ]
    }
   ],
   "source": [
    "import os, json, time\n",
    "\n",
    "lat = json.load(open(\"data/processed/latency_summary.json\",\"r\"))\n",
    "cv  = json.load(open(\"data/processed/cv_summary.json\",\"r\"))\n",
    "\n",
    "run = {\n",
    "    \"ts\": time.strftime(\"%Y-%m-%d %H:%M:%S\"),\n",
    "    \"model\": \"LinearSVC\",\n",
    "    \"feats\": \"TFIDF(1,2), min_df=2\",\n",
    "    \"cv\": cv[\"cv\"],\n",
    "    \"metrics\": cv,\n",
    "    \"latency\": lat,\n",
    "}\n",
    "\n",
    "log_path = \"data/processed/exp_log.jsonl\"\n",
    "with open(log_path, \"a\", encoding=\"utf-8\") as f:\n",
    "    f.write(json.dumps(run, ensure_ascii=False) + \"\\n\")\n",
    "print(\"OK → añadido run con latencia a\", log_path)\n"
   ]
  },
  {
   "cell_type": "code",
   "execution_count": 16,
   "id": "8b5071ae",
   "metadata": {},
   "outputs": [
    {
     "name": "stdout",
     "output_type": "stream",
     "text": [
      "OK → models/svm_tfidf.joblib (modelo final guardado)\n"
     ]
    }
   ],
   "source": [
    "import os, joblib, pandas as pd\n",
    "from sklearn.pipeline import Pipeline\n",
    "from sklearn.feature_extraction.text import TfidfVectorizer\n",
    "from sklearn.svm import LinearSVC\n",
    "\n",
    "# Usa texto preprocesado si existe\n",
    "if os.path.exists(\"data/processed/preprocesado.parquet\"):\n",
    "    d = pd.read_parquet(\"data/processed/preprocesado.parquet\").dropna(subset=[\"text_norm\",\"label\"])\n",
    "    texts = d[\"text_norm\"].astype(str).tolist()\n",
    "else:\n",
    "    d = pd.read_csv(\"data/raw/dataset.csv\").dropna(subset=[\"text\",\"label\"])\n",
    "    texts = d[\"text\"].astype(str).tolist()\n",
    "labels = d[\"label\"].astype(str).tolist()\n",
    "\n",
    "final_pipe = Pipeline([\n",
    "    (\"tfidf\", TfidfVectorizer(ngram_range=(1,2), min_df=2)),\n",
    "    (\"clf\", LinearSVC())\n",
    "]).fit(texts, labels)\n",
    "\n",
    "os.makedirs(\"models\", exist_ok=True)\n",
    "joblib.dump(final_pipe, \"models/svm_tfidf.joblib\")\n",
    "print(\"OK → models/svm_tfidf.joblib (modelo final guardado)\")\n"
   ]
  },
  {
   "cell_type": "code",
   "execution_count": 17,
   "id": "6822b0db",
   "metadata": {},
   "outputs": [
    {
     "name": "stdout",
     "output_type": "stream",
     "text": [
      "Holdout → accuracy=0.9647  f1_macro=0.9647\n"
     ]
    },
    {
     "data": {
      "image/png": "[encoded data removed]",
      "text/plain": [
       "<Figure size 600x600 with 1 Axes>"
      ]
     },
     "metadata": {},
     "output_type": "display_data"
    },
    {
     "name": "stdout",
     "output_type": "stream",
     "text": [
      "OK → figures/confusion_holdout.png\n"
     ]
    },
    {
     "data": {
      "text/html": [
       "<div>\n",
       "<style scoped>\n",
       "    .dataframe tbody tr th:only-of-type {\n",
       "        vertical-align: middle;\n",
       "    }\n",
       "\n",
       "    .dataframe tbody tr th {\n",
       "        vertical-align: top;\n",
       "    }\n",
       "\n",
       "    .dataframe thead th {\n",
       "        text-align: right;\n",
       "    }\n",
       "</style>\n",
       "<table border=\"1\" class=\"dataframe\">\n",
       "  <thead>\n",
       "    <tr style=\"text-align: right;\">\n",
       "      <th></th>\n",
       "      <th>true</th>\n",
       "      <th>pred</th>\n",
       "      <th>text</th>\n",
       "    </tr>\n",
       "  </thead>\n",
       "  <tbody>\n",
       "    <tr>\n",
       "      <th>0</th>\n",
       "      <td>astronomy</td>\n",
       "      <td>play</td>\n",
       "      <td>un enorme tornado succiona en el oceano a cien...</td>\n",
       "    </tr>\n",
       "    <tr>\n",
       "      <th>1</th>\n",
       "      <td>astronomy</td>\n",
       "      <td>religion</td>\n",
       "      <td>las autoridades australianas informaron que un...</td>\n",
       "    </tr>\n",
       "    <tr>\n",
       "      <th>2</th>\n",
       "      <td>fashion</td>\n",
       "      <td>economy</td>\n",
       "      <td>agentes de la policia nacional han bloqueado p...</td>\n",
       "    </tr>\n",
       "    <tr>\n",
       "      <th>3</th>\n",
       "      <td>religion</td>\n",
       "      <td>astronomy</td>\n",
       "      <td>el 11 de febrero, dia de la virgen de lourdes,...</td>\n",
       "    </tr>\n",
       "    <tr>\n",
       "      <th>4</th>\n",
       "      <td>economy</td>\n",
       "      <td>tech</td>\n",
       "      <td>google sigue ampliando su proyecto de intelige...</td>\n",
       "    </tr>\n",
       "    <tr>\n",
       "      <th>5</th>\n",
       "      <td>religion</td>\n",
       "      <td>economy</td>\n",
       "      <td>la inteligencia artificial (ia) ya esta revolu...</td>\n",
       "    </tr>\n",
       "    <tr>\n",
       "      <th>6</th>\n",
       "      <td>religion</td>\n",
       "      <td>play</td>\n",
       "      <td>el de superman es uno de los papeles mas codic...</td>\n",
       "    </tr>\n",
       "    <tr>\n",
       "      <th>7</th>\n",
       "      <td>economy</td>\n",
       "      <td>sport</td>\n",
       "      <td>el presidente de eeuu, joe biden, se mostro es...</td>\n",
       "    </tr>\n",
       "    <tr>\n",
       "      <th>8</th>\n",
       "      <td>politics</td>\n",
       "      <td>economy</td>\n",
       "      <td>la tractorada que preve tomar madrid entre el ...</td>\n",
       "    </tr>\n",
       "    <tr>\n",
       "      <th>9</th>\n",
       "      <td>politics</td>\n",
       "      <td>economy</td>\n",
       "      <td>llevaba trabajando para la empresa desde 1995,...</td>\n",
       "    </tr>\n",
       "  </tbody>\n",
       "</table>\n",
       "</div>"
      ],
      "text/plain": [
       "        true       pred                                               text\n",
       "0  astronomy       play  un enorme tornado succiona en el oceano a cien...\n",
       "1  astronomy   religion  las autoridades australianas informaron que un...\n",
       "2    fashion    economy  agentes de la policia nacional han bloqueado p...\n",
       "3   religion  astronomy  el 11 de febrero, dia de la virgen de lourdes,...\n",
       "4    economy       tech  google sigue ampliando su proyecto de intelige...\n",
       "5   religion    economy  la inteligencia artificial (ia) ya esta revolu...\n",
       "6   religion       play  el de superman es uno de los papeles mas codic...\n",
       "7    economy      sport  el presidente de eeuu, joe biden, se mostro es...\n",
       "8   politics    economy  la tractorada que preve tomar madrid entre el ...\n",
       "9   politics    economy  llevaba trabajando para la empresa desde 1995,..."
      ]
     },
     "execution_count": 17,
     "metadata": {},
     "output_type": "execute_result"
    }
   ],
   "source": [
    "import pandas as pd, numpy as np, os, matplotlib.pyplot as plt, joblib\n",
    "from sklearn.model_selection import train_test_split\n",
    "from sklearn.pipeline import Pipeline\n",
    "from sklearn.feature_extraction.text import TfidfVectorizer\n",
    "from sklearn.svm import LinearSVC\n",
    "from sklearn.metrics import accuracy_score, f1_score, confusion_matrix, ConfusionMatrixDisplay\n",
    "\n",
    "# Carga\n",
    "if os.path.exists(\"data/processed/preprocesado.parquet\"):\n",
    "    df = pd.read_parquet(\"data/processed/preprocesado.parquet\").dropna(subset=[\"text_norm\",\"label\"])\n",
    "    X = df[\"text_norm\"].astype(str).tolist()\n",
    "else:\n",
    "    df = pd.read_csv(\"data/raw/dataset.csv\").dropna(subset=[\"text\",\"label\"])\n",
    "    X = df[\"text\"].astype(str).tolist()\n",
    "y = df[\"label\"].astype(str).tolist()\n",
    "\n",
    "X_tr, X_te, y_tr, y_te = train_test_split(X, y, test_size=0.2, random_state=42, stratify=y)\n",
    "pipe = Pipeline([(\"tfidf\", TfidfVectorizer(ngram_range=(1,2), min_df=2)), (\"clf\", LinearSVC())]).fit(X_tr, y_tr)\n",
    "\n",
    "pred = pipe.predict(X_te)\n",
    "acc = accuracy_score(y_te, pred)\n",
    "f1m = f1_score(y_te, pred, average=\"macro\")\n",
    "print(f\"Holdout → accuracy={acc:.4f}  f1_macro={f1m:.4f}\")\n",
    "\n",
    "# Matriz de confusión\n",
    "labels_sorted = sorted(set(y))\n",
    "cm = confusion_matrix(y_te, pred, labels=labels_sorted)\n",
    "disp = ConfusionMatrixDisplay(confusion_matrix=cm, display_labels=labels_sorted)\n",
    "fig, ax = plt.subplots(figsize=(6,6))\n",
    "disp.plot(ax=ax, xticks_rotation=45, colorbar=False)\n",
    "plt.title(\"Matriz de confusión (holdout 20%)\")\n",
    "os.makedirs(\"figures\", exist_ok=True)\n",
    "plt.tight_layout(); plt.savefig(\"figures/confusion_holdout.png\", dpi=160); plt.show()\n",
    "print(\"OK → figures/confusion_holdout.png\")\n",
    "\n",
    "# 10 errores para el informe\n",
    "errores = []\n",
    "for i, (yt, yh, txt) in enumerate(zip(y_te, pred, X_te)):\n",
    "    if yt != yh:\n",
    "        errores.append({\"true\": yt, \"pred\": yh, \"text\": txt[:300] + (\"...\" if len(txt)>300 else \"\")})\n",
    "    if len(errores) >= 10:\n",
    "        break\n",
    "pd.DataFrame(errores)\n"
   ]
  },
  {
   "cell_type": "code",
   "execution_count": 18,
   "id": "d7db4ba0",
   "metadata": {},
   "outputs": [
    {
     "name": "stdout",
     "output_type": "stream",
     "text": [
      "OK → data/processed/summary_metrics.csv  y  data/processed/class_distribution.csv\n"
     ]
    },
    {
     "data": {
      "text/plain": [
       "(             metric     value\n",
       " 0  CV_accuracy_mean  0.958235\n",
       " 1  CV_f1_macro_mean  0.958174\n",
       " 2   CV_accuracy_std  0.005444\n",
       " 3   CV_f1_macro_std  0.005555\n",
       " 4    latency_p50_ms  0.357000\n",
       " 5    latency_p95_ms  0.468000,\n",
       "            count   prop\n",
       " label                  \n",
       " play         850  0.083\n",
       " tech         850  0.083\n",
       " medicine     850  0.083\n",
       " astronomy    850  0.083\n",
       " sport        850  0.083)"
      ]
     },
     "execution_count": 18,
     "metadata": {},
     "output_type": "execute_result"
    }
   ],
   "source": [
    "import os, json, pandas as pd\n",
    "\n",
    "cv = json.load(open(\"data/processed/cv_summary.json\",\"r\", encoding=\"utf-8\"))\n",
    "lat = json.load(open(\"data/processed/latency_summary.json\",\"r\", encoding=\"utf-8\"))\n",
    "dist = df[\"label\"].value_counts().rename_axis(\"label\").to_frame(\"count\")\n",
    "dist[\"prop\"] = (dist[\"count\"] / dist[\"count\"].sum()).round(3)\n",
    "\n",
    "summary_rows = [{\n",
    "    \"metric\": \"CV_accuracy_mean\", \"value\": cv[\"accuracy_mean\"]\n",
    "},{\n",
    "    \"metric\": \"CV_f1_macro_mean\", \"value\": cv[\"f1_macro_mean\"]\n",
    "},{\n",
    "    \"metric\": \"CV_accuracy_std\", \"value\": cv[\"accuracy_std\"]\n",
    "},{\n",
    "    \"metric\": \"CV_f1_macro_std\", \"value\": cv[\"f1_macro_std\"]\n",
    "},{\n",
    "    \"metric\": \"latency_p50_ms\", \"value\": lat[\"latencia_p50_ms\"]\n",
    "},{\n",
    "    \"metric\": \"latency_p95_ms\", \"value\": lat[\"latencia_p95_ms\"]\n",
    "}]\n",
    "summary_df = pd.DataFrame(summary_rows)\n",
    "\n",
    "os.makedirs(\"data/processed\", exist_ok=True)\n",
    "summary_df.to_csv(\"data/processed/summary_metrics.csv\", index=False)\n",
    "dist.to_csv(\"data/processed/class_distribution.csv\")\n",
    "print(\"OK → data/processed/summary_metrics.csv  y  data/processed/class_distribution.csv\")\n",
    "\n",
    "summary_df, dist.head()\n"
   ]
  },
  {
   "cell_type": "code",
   "execution_count": 19,
   "id": "599281b0",
   "metadata": {},
   "outputs": [
    {
     "data": {
      "text/plain": [
       "[('El banco central evaluará nuevas medidas para contener la inflación.',\n",
       "  'economy'),\n",
       " ('El delantero marcó dos goles en el partido de anoche.', 'sport'),\n",
       " ('Una nova fue observada por astrónomos aficionados en el hemisferio sur.',\n",
       "  'astronomy')]"
      ]
     },
     "execution_count": 19,
     "metadata": {},
     "output_type": "execute_result"
    }
   ],
   "source": [
    "import joblib\n",
    "clf = joblib.load(\"models/svm_tfidf.joblib\")\n",
    "ejemplos = [\n",
    "    \"El banco central evaluará nuevas medidas para contener la inflación.\",\n",
    "    \"El delantero marcó dos goles en el partido de anoche.\",\n",
    "    \"Una nova fue observada por astrónomos aficionados en el hemisferio sur.\",\n",
    "]\n",
    "list(zip(ejemplos, clf.predict(ejemplos)))\n"
   ]
  },
  {
   "cell_type": "code",
   "execution_count": 20,
   "id": "414af9e1",
   "metadata": {},
   "outputs": [
    {
     "name": "stdout",
     "output_type": "stream",
     "text": [
      "Semillas fijadas (random, numpy).\n"
     ]
    }
   ],
   "source": [
    "import os, random, numpy as np\n",
    "random.seed(42)\n",
    "np.random.seed(42)\n",
    "os.environ[\"PYTHONHASHSEED\"] = \"42\"\n",
    "print(\"Semillas fijadas (random, numpy).\")"
   ]
  },
  {
   "cell_type": "code",
   "execution_count": 21,
   "id": "65fa1db8",
   "metadata": {},
   "outputs": [
    {
     "name": "stdout",
     "output_type": "stream",
     "text": [
      "OK → docs/features_catalog.json\n"
     ]
    }
   ],
   "source": [
    "import json, os\n",
    "catalogo = {\n",
    "    \"preprocesamiento\": {\n",
    "        \"lowercase\": True, \"strip_accents\": True,\n",
    "        \"stopwords\": \"spanish\", \"digits_removed\": True,\n",
    "        \"stemming\": \"Snowball(Spanish)\", \"lemmatization\": \"spaCy (si disponible)\"\n",
    "    },\n",
    "    \"representaciones\": {\n",
    "        \"bow_tfidf\": {\"ngram_range\": [1,2], \"min_df\": 2},\n",
    "        \"cooc_ppmi\": {\"window\": 4, \"min_count\": 5},\n",
    "        \"word2vec\": {\"sg\": 1, \"vector_size\": 100, \"window\": 5, \"min_count\": 5, \"epochs\": 5}\n",
    "    },\n",
    "    \"clasificador\": {\"name\": \"LinearSVC\", \"features\": \"TF-IDF(1,2), min_df=2\"}\n",
    "}\n",
    "os.makedirs(\"docs\", exist_ok=True)\n",
    "with open(\"docs/features_catalog.json\",\"w\", encoding=\"utf-8\") as f:\n",
    "    json.dump(catalogo, f, indent=2, ensure_ascii=False)\n",
    "print(\"OK → docs/features_catalog.json\")"
   ]
  },
  {
   "cell_type": "code",
   "execution_count": 22,
   "id": "dd53ad05",
   "metadata": {},
   "outputs": [
    {
     "name": "stdout",
     "output_type": "stream",
     "text": [
      "Sweep: [{'min_df': 3, 'C': 1.0, 'f1_macro_mean': 0.9557678392128032}, {'min_df': 2, 'C': 1.0, 'f1_macro_mean': 0.9555647101020134}, {'min_df': 1, 'C': 1.0, 'f1_macro_mean': 0.9539809303334956}, {'min_df': 2, 'C': 0.5, 'f1_macro_mean': 0.9536701886943009}]\n"
     ]
    }
   ],
   "source": [
    "import json, time, os, numpy as np, pandas as pd\n",
    "from sklearn.model_selection import StratifiedKFold\n",
    "from sklearn.pipeline import Pipeline\n",
    "from sklearn.feature_extraction.text import TfidfVectorizer\n",
    "from sklearn.svm import LinearSVC\n",
    "from sklearn.metrics import f1_score\n",
    "\n",
    "# Carga\n",
    "if os.path.exists(\"data/processed/preprocesado.parquet\"):\n",
    "    d = pd.read_parquet(\"data/processed/preprocesado.parquet\").dropna(subset=[\"text_norm\",\"label\"])\n",
    "    X = d[\"text_norm\"].astype(str).to_numpy()\n",
    "else:\n",
    "    d = pd.read_csv(\"data/raw/dataset.csv\").dropna(subset=[\"text\",\"label\"])\n",
    "    X = d[\"text\"].astype(str).to_numpy()\n",
    "y = d[\"label\"].astype(str).to_numpy()\n",
    "\n",
    "grid = [\n",
    "    {\"min_df\": 1, \"C\": 1.0},\n",
    "    {\"min_df\": 2, \"C\": 1.0},\n",
    "    {\"min_df\": 2, \"C\": 0.5},\n",
    "    {\"min_df\": 3, \"C\": 1.0},\n",
    "]\n",
    "skf = StratifiedKFold(n_splits=3, shuffle=True, random_state=42)\n",
    "results = []\n",
    "\n",
    "for hp in grid:\n",
    "    f1s = []\n",
    "    for tr, te in skf.split(X, y):\n",
    "        pipe = Pipeline([\n",
    "            (\"tfidf\", TfidfVectorizer(ngram_range=(1,2), min_df=hp[\"min_df\"])),\n",
    "            (\"clf\", LinearSVC(C=hp[\"C\"]))\n",
    "        ])\n",
    "        pipe.fit(X[tr], y[tr])\n",
    "        pred = pipe.predict(X[te])\n",
    "        f1s.append(f1_score(y[te], pred, average=\"macro\"))\n",
    "    results.append({**hp, \"f1_macro_mean\": float(np.mean(f1s))})\n",
    "\n",
    "results_sorted = sorted(results, key=lambda r: -r[\"f1_macro_mean\"])\n",
    "print(\"Sweep:\", results_sorted)\n",
    "\n",
    "# Log en exp_log.jsonl\n",
    "os.makedirs(\"data/processed\", exist_ok=True)\n",
    "log_path = \"data/processed/exp_log.jsonl\"\n",
    "for r in results_sorted:\n",
    "    run = {\n",
    "        \"ts\": time.strftime(\"%Y-%m-%d %H:%M:%S\"),\n",
    "        \"model\": \"LinearSVC\",\n",
    "        \"feats\": f\"TFIDF(1,2), min_df={r['min_df']}\",\n",
    "        \"cv\": 3, \"params\": {\"C\": r[\"C\"]},\n",
    "        \"metrics\": {\"f1_macro_mean\": r[\"f1_macro_mean\"]}\n",
    "    }\n",
    "    with open(log_path, \"a\", encoding=\"utf-8\") as f:\n",
    "        f.write(json.dumps(run, ensure_ascii=False) + \"\\n\")"
   ]
  },
  {
   "cell_type": "code",
   "execution_count": 23,
   "id": "5f3fe9aa",
   "metadata": {},
   "outputs": [
    {
     "name": "stdout",
     "output_type": "stream",
     "text": [
      "OK → registrado models/svm_tfidf_v1.joblib (versión 1).\n"
     ]
    }
   ],
   "source": [
    "import os, json, glob, time, joblib\n",
    "from sklearn.pipeline import Pipeline\n",
    "from sklearn.feature_extraction.text import TfidfVectorizer\n",
    "from sklearn.svm import LinearSVC\n",
    "import pandas as pd\n",
    "\n",
    "# Entrena con mejores hiperparámetros del sweep (ajusta si tuviste otro ganador)\n",
    "min_df_best, C_best = 2, 1.0\n",
    "\n",
    "if os.path.exists(\"data/processed/preprocesado.parquet\"):\n",
    "    d = pd.read_parquet(\"data/processed/preprocesado.parquet\").dropna(subset=[\"text_norm\",\"label\"])\n",
    "    texts = d[\"text_norm\"].astype(str).tolist()\n",
    "else:\n",
    "    d = pd.read_csv(\"data/raw/dataset.csv\").dropna(subset=[\"text\",\"label\"])\n",
    "    texts = d[\"text\"].astype(str).tolist()\n",
    "labels = d[\"label\"].astype(str).tolist()\n",
    "\n",
    "pipe = Pipeline([\n",
    "    (\"tfidf\", TfidfVectorizer(ngram_range=(1,2), min_df=min_df_best)),\n",
    "    (\"clf\", LinearSVC(C=C_best))\n",
    "]).fit(texts, labels)\n",
    "\n",
    "os.makedirs(\"models\", exist_ok=True)\n",
    "registry_path = \"models/registry.json\"\n",
    "reg = {\"versions\": []}\n",
    "if os.path.exists(registry_path):\n",
    "    reg = json.load(open(registry_path, \"r\", encoding=\"utf-8\"))\n",
    "\n",
    "version = len(reg[\"versions\"]) + 1\n",
    "model_path = f\"models/svm_tfidf_v{version}.joblib\"\n",
    "joblib.dump(pipe, model_path)\n",
    "\n",
    "entry = {\n",
    "    \"version\": version,\n",
    "    \"path\": model_path,\n",
    "    \"created_at\": time.strftime(\"%Y-%m-%d %H:%M:%S\"),\n",
    "    \"signature\": {\"input\": \"str(text)\", \"output\": \"str(label)\"},\n",
    "}\n",
    "reg[\"versions\"].append(entry)\n",
    "with open(registry_path, \"w\", encoding=\"utf-8\") as f:\n",
    "    json.dump(reg, f, indent=2, ensure_ascii=False)\n",
    "\n",
    "print(f\"OK → registrado {model_path} (versión {version}).\")"
   ]
  },
  {
   "cell_type": "code",
   "execution_count": 24,
   "id": "0ab7fe2a",
   "metadata": {},
   "outputs": [],
   "source": [
    "import pandas as pd, joblib, os\n",
    "\n",
    "def predict_csv(in_path, out_path, model_path=None):\n",
    "    model_path = model_path or max([p for p in os.listdir(\"models\") if p.endswith(\".joblib\")], key=lambda p: os.path.getmtime(os.path.join(\"models\", p)))\n",
    "    clf = joblib.load(os.path.join(\"models\", model_path))\n",
    "    df = pd.read_csv(in_path)\n",
    "    assert \"text\" in df.columns, \"El CSV debe tener columna 'text'.\"\n",
    "    df[\"pred\"] = clf.predict(df[\"text\"].astype(str).tolist())\n",
    "    df.to_csv(out_path, index=False)\n",
    "    print(f\"OK → {out_path} con {len(df)} filas. Modelo: {model_path}\")\n"
   ]
  },
  {
   "cell_type": "code",
   "execution_count": 25,
   "id": "4183d5a1",
   "metadata": {},
   "outputs": [
    {
     "name": "stdout",
     "output_type": "stream",
     "text": [
      "Drift PSI: 0.003900025239241605 → data/processed/drift_report.json\n",
      "Retrain flag: {'retrain': False, 'reasons': []}\n"
     ]
    }
   ],
   "source": [
    "import os, json, pandas as pd, numpy as np, joblib\n",
    "\n",
    "# 1) Distribución de etiquetas del set de entrenamiento (proxy de \"baseline\")\n",
    "if os.path.exists(\"data/processed/preprocesado.parquet\"):\n",
    "    base = pd.read_parquet(\"data/processed/preprocesado.parquet\")[\"label\"].astype(str)\n",
    "else:\n",
    "    base = pd.read_csv(\"data/raw/dataset.csv\")[\"label\"].astype(str)\n",
    "\n",
    "base_dist = (base.value_counts(normalize=True)).sort_index()\n",
    "\n",
    "# 2) Predicciones \"producción\" (usa data/prod si existe; si no, usa un bootstrap del test)\n",
    "prod_csv = \"data/prod/incoming.csv\"\n",
    "if os.path.exists(prod_csv):\n",
    "    latest_model = sorted([p for p in os.listdir(\"models\") if p.endswith(\".joblib\")], key=lambda p: os.path.getmtime(os.path.join(\"models\", p)))[-1]\n",
    "    clf = joblib.load(os.path.join(\"models\", latest_model))\n",
    "    prod = pd.read_csv(prod_csv)\n",
    "    preds = pd.Series(clf.predict(prod[\"text\"].astype(str).tolist()))\n",
    "else:\n",
    "    # Fallback: usa 20% del dataset como “simulación”\n",
    "    df = pd.read_csv(\"data/raw/dataset.csv\").sample(frac=0.2, random_state=42)\n",
    "    latest_model = sorted([p for p in os.listdir(\"models\") if p.endswith(\".joblib\")], key=lambda p: os.path.getmtime(os.path.join(\"models\", p)))[-1]\n",
    "    clf = joblib.load(os.path.join(\"models\", latest_model))\n",
    "    preds = pd.Series(clf.predict(df[\"text\"].astype(str).tolist()))\n",
    "\n",
    "pred_dist = (preds.value_counts(normalize=True)).sort_index()\n",
    "\n",
    "# 3) PSI (Population Stability Index) entre distribuciones (simple)\n",
    "labels_union = sorted(set(base_dist.index) | set(pred_dist.index))\n",
    "p = np.array([base_dist.get(lbl, 1e-6) for lbl in labels_union])\n",
    "q = np.array([pred_dist.get(lbl, 1e-6) for lbl in labels_union])\n",
    "psi = float(np.sum((p - q) * np.log((p + 1e-12) / (q + 1e-12))))\n",
    "\n",
    "report = {\n",
    "    \"labels\": labels_union,\n",
    "    \"base_dist\": {k: float(base_dist.get(k, 0.0)) for k in labels_union},\n",
    "    \"pred_dist\": {k: float(pred_dist.get(k, 0.0)) for k in labels_union},\n",
    "    \"psi\": psi\n",
    "}\n",
    "os.makedirs(\"data/processed\", exist_ok=True)\n",
    "with open(\"data/processed/drift_report.json\",\"w\", encoding=\"utf-8\") as f:\n",
    "    json.dump(report, f, indent=2, ensure_ascii=False)\n",
    "print(\"Drift PSI:\", psi, \"→ data/processed/drift_report.json\")\n",
    "\n",
    "# 4) Gatillo de retraining (usa umbrales de tu JSON de metas + SLA y fairness)\n",
    "goals = json.load(open(\"docs/objetivo_y_slas.json\",\"r\", encoding=\"utf-8\"))\n",
    "cv = json.load(open(\"data/processed/cv_summary.json\",\"r\", encoding=\"utf-8\"))\n",
    "lat = json.load(open(\"data/processed/latency_summary.json\",\"r\", encoding=\"utf-8\"))\n",
    "\n",
    "reasons = []\n",
    "if cv.get(\"per_class_f1_mean\"):\n",
    "    if min(cv[\"per_class_f1_mean\"].values()) < goals[\"metas\"][\"f1_por_clase_min\"]:\n",
    "        reasons.append(\"f1_min_por_clase_bajo\")\n",
    "if cv[\"f1_macro_mean\"] < goals[\"metas\"][\"f1_macro_min\"]:\n",
    "    reasons.append(\"f1_macro_bajo\")\n",
    "if lat[\"latencia_p95_ms\"] > goals[\"sla_demo\"][\"latencia_p95_ms\"]:\n",
    "    reasons.append(\"sla_latencia_incumplido\")\n",
    "if psi > 0.2:  # 0.1–0.2 leve; >0.2 moderado; >0.35 alto (regla de pulgar)\n",
    "    reasons.append(\"drift_moderado_o_mayor\")\n",
    "\n",
    "flag = {\"retrain\": bool(reasons), \"reasons\": reasons}\n",
    "with open(\"data/processed/retrain_flag.json\",\"w\", encoding=\"utf-8\") as f:\n",
    "    json.dump(flag, f, indent=2, ensure_ascii=False)\n",
    "print(\"Retrain flag:\", flag)"
   ]
  }
 ],
 "metadata": {
  "kernelspec": {
   "display_name": "nlp",
   "language": "python",
   "name": "python3"
  },
  "language_info": {
   "codemirror_mode": {
    "name": "ipython",
    "version": 3
   },
   "file_extension": ".py",
   "mimetype": "text/x-python",
   "name": "python",
   "nbconvert_exporter": "python",
   "pygments_lexer": "ipython3",
   "version": "3.11.13"
  }
 },
 "nbformat": 4,
 "nbformat_minor": 5
}
